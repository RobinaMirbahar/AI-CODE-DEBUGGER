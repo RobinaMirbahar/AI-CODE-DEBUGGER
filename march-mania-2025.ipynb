{
 "cells": [
  {
   "cell_type": "markdown",
   "id": "2bc366e9",
   "metadata": {
    "papermill": {
     "duration": 0.004338,
     "end_time": "2025-02-18T15:56:15.149507",
     "exception": false,
     "start_time": "2025-02-18T15:56:15.145169",
     "status": "completed"
    },
    "tags": []
   },
   "source": [
    "# March Mania 2025 - Starter Notebook"
   ]
  },
  {
   "cell_type": "markdown",
   "id": "09a8e353",
   "metadata": {
    "papermill": {
     "duration": 0.003084,
     "end_time": "2025-02-18T15:56:15.156137",
     "exception": false,
     "start_time": "2025-02-18T15:56:15.153053",
     "status": "completed"
    },
    "tags": []
   },
   "source": [
    "## Goal of the competition\n",
    "\n",
    "The goal of this competition is to predict that probability that the smaller ``TeamID`` will win a given matchup. You will predict the probability for every possible matchup between every possible team over the past 4 years. You'll be given a sample submission file where the ```ID``` value indicates the year of the matchup as well as the identities of both teams within the matchup. For example, for an ```ID``` of ```2025_1101_1104``` you would need to predict the outcome of the matchup between ```TeamID 1101``` vs ```TeamID 1104``` during the ```2025``` tournament. Submitting a ```PRED``` of ```0.75``` indicates that you think that the probability of ```TeamID 1101``` winning that particular matchup is equal to ```0.75```.\n"
   ]
  },
  {
   "cell_type": "markdown",
   "id": "46fd9282",
   "metadata": {
    "papermill": {
     "duration": 0.003111,
     "end_time": "2025-02-18T15:56:15.162694",
     "exception": false,
     "start_time": "2025-02-18T15:56:15.159583",
     "status": "completed"
    },
    "tags": []
   },
   "source": [
    "## Overview of our submission strategy \n",
    "For this starter notebook, we will make a simple submission.\n",
    "\n",
    "We can predict the winner of a match by considering the respective rankings of the opposing teams, only. Since the largest possible difference is 15 (which is #16 minus #1), we use a rudimentary formula that's 0.5 plus 0.03 times the difference in seeds, leading to a range of predictions spanning from 5% up to 95%. The stronger-seeded team (with a lower seed number from 1 to 16) will be the favorite and will have a prediction above 50%. "
   ]
  },
  {
   "cell_type": "markdown",
   "id": "91e01807",
   "metadata": {
    "papermill": {
     "duration": 0.003144,
     "end_time": "2025-02-18T15:56:15.169161",
     "exception": false,
     "start_time": "2025-02-18T15:56:15.166017",
     "status": "completed"
    },
    "tags": []
   },
   "source": [
    "# Starter Code"
   ]
  },
  {
   "cell_type": "markdown",
   "id": "37728541",
   "metadata": {
    "papermill": {
     "duration": 0.003263,
     "end_time": "2025-02-18T15:56:15.175844",
     "exception": false,
     "start_time": "2025-02-18T15:56:15.172581",
     "status": "completed"
    },
    "tags": []
   },
   "source": [
    "## Step 1: Import Python packages"
   ]
  },
  {
   "cell_type": "code",
   "execution_count": 1,
   "id": "ab176dab",
   "metadata": {
    "_cell_guid": "b1076dfc-b9ad-4769-8c92-a6c4dae69d19",
    "_kg_hide-input": false,
    "_uuid": "8f2839f25d086af736a60e9eeb907d3b93b6e0e5",
    "execution": {
     "iopub.execute_input": "2025-02-18T15:56:15.183904Z",
     "iopub.status.busy": "2025-02-18T15:56:15.183500Z",
     "iopub.status.idle": "2025-02-18T15:56:17.164992Z",
     "shell.execute_reply": "2025-02-18T15:56:17.164161Z"
    },
    "papermill": {
     "duration": 1.987598,
     "end_time": "2025-02-18T15:56:17.166779",
     "exception": false,
     "start_time": "2025-02-18T15:56:15.179181",
     "status": "completed"
    },
    "tags": []
   },
   "outputs": [],
   "source": [
    "import numpy as np\n",
    "import pandas as pd\n",
    "from sklearn.metrics import brier_score_loss"
   ]
  },
  {
   "cell_type": "markdown",
   "id": "96a7141c",
   "metadata": {
    "papermill": {
     "duration": 0.003521,
     "end_time": "2025-02-18T15:56:17.174500",
     "exception": false,
     "start_time": "2025-02-18T15:56:17.170979",
     "status": "completed"
    },
    "tags": []
   },
   "source": [
    "## Step 2: Explore the data"
   ]
  },
  {
   "cell_type": "code",
   "execution_count": 2,
   "id": "b91ae377",
   "metadata": {
    "execution": {
     "iopub.execute_input": "2025-02-18T15:56:17.182992Z",
     "iopub.status.busy": "2025-02-18T15:56:17.182497Z",
     "iopub.status.idle": "2025-02-18T15:56:17.602386Z",
     "shell.execute_reply": "2025-02-18T15:56:17.601350Z"
    },
    "papermill": {
     "duration": 0.425929,
     "end_time": "2025-02-18T15:56:17.604119",
     "exception": false,
     "start_time": "2025-02-18T15:56:17.178190",
     "status": "completed"
    },
    "tags": []
   },
   "outputs": [],
   "source": [
    "# Load data\n",
    "w_seed = pd.read_csv('/kaggle/input/march-machine-learning-mania-2025/WNCAATourneySeeds.csv')\n",
    "m_seed = pd.read_csv('/kaggle/input/march-machine-learning-mania-2025/MNCAATourneySeeds.csv')\n",
    "seed_df = pd.concat([m_seed, w_seed], axis=0).drop_duplicates(subset=['Season', 'TeamID'])\n",
    "submission_df = pd.read_csv('/kaggle/input/march-machine-learning-mania-2025/SampleSubmissionStage1.csv')\n"
   ]
  },
  {
   "cell_type": "markdown",
   "id": "954a42d8",
   "metadata": {
    "papermill": {
     "duration": 0.004016,
     "end_time": "2025-02-18T15:56:17.612207",
     "exception": false,
     "start_time": "2025-02-18T15:56:17.608191",
     "status": "completed"
    },
    "tags": []
   },
   "source": [
    "Team rankings are present in the files WNCAATourneySeeds.csv and MNCAATourneySeeds.csv. \n",
    "- The \"Season\" column indicates the year\n",
    "- The \"Seed\" column indicates the ranking for a given conference (W01 = ranking 1 in conference W)\n",
    "- The \"TeamID\" column contains a unique identifier for every team"
   ]
  },
  {
   "cell_type": "code",
   "execution_count": 3,
   "id": "9d6a13db",
   "metadata": {
    "execution": {
     "iopub.execute_input": "2025-02-18T15:56:17.620717Z",
     "iopub.status.busy": "2025-02-18T15:56:17.620332Z",
     "iopub.status.idle": "2025-02-18T15:56:17.630292Z",
     "shell.execute_reply": "2025-02-18T15:56:17.629155Z"
    },
    "papermill": {
     "duration": 0.015995,
     "end_time": "2025-02-18T15:56:17.631998",
     "exception": false,
     "start_time": "2025-02-18T15:56:17.616003",
     "status": "completed"
    },
    "tags": []
   },
   "outputs": [
    {
     "name": "stdout",
     "output_type": "stream",
     "text": [
      "   Season Seed  TeamID\n",
      "0    1985  W01    1207\n",
      "1    1985  W02    1210\n",
      "2    1985  W03    1228\n",
      "3    1985  W04    1260\n",
      "4    1985  W05    1374\n"
     ]
    }
   ],
   "source": [
    "# Display first few rows to check structure\n",
    "print(seed_df.head())\n",
    "\n"
   ]
  },
  {
   "cell_type": "markdown",
   "id": "efb58b23",
   "metadata": {
    "papermill": {
     "duration": 0.003518,
     "end_time": "2025-02-18T15:56:17.639329",
     "exception": false,
     "start_time": "2025-02-18T15:56:17.635811",
     "status": "completed"
    },
    "tags": []
   },
   "source": [
    "The sample_submission.csv file contains an \"ID\" column with the format year_teamID1_teamID2."
   ]
  },
  {
   "cell_type": "code",
   "execution_count": 4,
   "id": "d66c12c0",
   "metadata": {
    "execution": {
     "iopub.execute_input": "2025-02-18T15:56:17.647673Z",
     "iopub.status.busy": "2025-02-18T15:56:17.647346Z",
     "iopub.status.idle": "2025-02-18T15:56:17.654008Z",
     "shell.execute_reply": "2025-02-18T15:56:17.653109Z"
    },
    "papermill": {
     "duration": 0.012335,
     "end_time": "2025-02-18T15:56:17.655388",
     "exception": false,
     "start_time": "2025-02-18T15:56:17.643053",
     "status": "completed"
    },
    "tags": []
   },
   "outputs": [
    {
     "name": "stdout",
     "output_type": "stream",
     "text": [
      "               ID  Pred\n",
      "0  2021_1101_1102   0.5\n",
      "1  2021_1101_1103   0.5\n",
      "2  2021_1101_1104   0.5\n",
      "3  2021_1101_1105   0.5\n",
      "4  2021_1101_1106   0.5\n"
     ]
    }
   ],
   "source": [
    "print(submission_df.head())"
   ]
  },
  {
   "cell_type": "markdown",
   "id": "0db60d40",
   "metadata": {
    "papermill": {
     "duration": 0.003521,
     "end_time": "2025-02-18T15:56:17.662874",
     "exception": false,
     "start_time": "2025-02-18T15:56:17.659353",
     "status": "completed"
    },
    "tags": []
   },
   "source": [
    "## Step 3: Extract game info and team rankings"
   ]
  },
  {
   "cell_type": "code",
   "execution_count": 5,
   "id": "0b88bc56",
   "metadata": {
    "execution": {
     "iopub.execute_input": "2025-02-18T15:56:17.671236Z",
     "iopub.status.busy": "2025-02-18T15:56:17.670973Z",
     "iopub.status.idle": "2025-02-18T15:56:18.837372Z",
     "shell.execute_reply": "2025-02-18T15:56:18.836645Z"
    },
    "papermill": {
     "duration": 1.172557,
     "end_time": "2025-02-18T15:56:18.839069",
     "exception": false,
     "start_time": "2025-02-18T15:56:17.666512",
     "status": "completed"
    },
    "tags": []
   },
   "outputs": [],
   "source": [
    "# Extract game info\n",
    "def extract_game_info(id_str):\n",
    "    parts = id_str.split('_')\n",
    "    return int(parts[0]), int(parts[1]), int(parts[2])\n",
    "\n",
    "def extract_seed_value(seed_str):\n",
    "    try:\n",
    "        return int(seed_str[1:])\n",
    "    except ValueError:\n",
    "        return 16\n",
    "\n",
    "# Apply transformations\n",
    "submission_df[['Season', 'TeamID1', 'TeamID2']] = submission_df['ID'].apply(extract_game_info).tolist()\n",
    "seed_df['SeedValue'] = seed_df['Seed'].apply(extract_seed_value)\n"
   ]
  },
  {
   "cell_type": "markdown",
   "id": "bac08ed1",
   "metadata": {
    "papermill": {
     "duration": 0.003726,
     "end_time": "2025-02-18T15:56:18.846932",
     "exception": false,
     "start_time": "2025-02-18T15:56:18.843206",
     "status": "completed"
    },
    "tags": []
   },
   "source": [
    "## Step 4: Make your predictions"
   ]
  },
  {
   "cell_type": "code",
   "execution_count": 6,
   "id": "b519f923",
   "metadata": {
    "execution": {
     "iopub.execute_input": "2025-02-18T15:56:18.856046Z",
     "iopub.status.busy": "2025-02-18T15:56:18.855713Z",
     "iopub.status.idle": "2025-02-18T15:56:19.267149Z",
     "shell.execute_reply": "2025-02-18T15:56:19.266025Z"
    },
    "papermill": {
     "duration": 0.418055,
     "end_time": "2025-02-18T15:56:19.269034",
     "exception": false,
     "start_time": "2025-02-18T15:56:18.850979",
     "status": "completed"
    },
    "tags": []
   },
   "outputs": [],
   "source": [
    "# Merge seed information\n",
    "submission_df = submission_df.merge(seed_df[['Season', 'TeamID', 'SeedValue']], \n",
    "                                    left_on=['Season', 'TeamID1'], right_on=['Season', 'TeamID'], how='left')\n",
    "submission_df = submission_df.rename(columns={'SeedValue': 'SeedValue1'}).drop(columns=['TeamID'])\n",
    "\n",
    "submission_df = submission_df.merge(seed_df[['Season', 'TeamID', 'SeedValue']], \n",
    "                                    left_on=['Season', 'TeamID2'], right_on=['Season', 'TeamID'], how='left')\n",
    "submission_df = submission_df.rename(columns={'SeedValue': 'SeedValue2'}).drop(columns=['TeamID'])\n",
    "\n",
    "# Ensure no duplicate columns and fill missing values\n",
    "submission_df = submission_df.drop_duplicates()\n",
    "submission_df[['SeedValue1', 'SeedValue2']] = submission_df[['SeedValue1', 'SeedValue2']].fillna(16)\n"
   ]
  },
  {
   "cell_type": "code",
   "execution_count": 7,
   "id": "5e5c1c8f",
   "metadata": {
    "execution": {
     "iopub.execute_input": "2025-02-18T15:56:19.278601Z",
     "iopub.status.busy": "2025-02-18T15:56:19.278236Z",
     "iopub.status.idle": "2025-02-18T15:56:19.304620Z",
     "shell.execute_reply": "2025-02-18T15:56:19.303408Z"
    },
    "papermill": {
     "duration": 0.033046,
     "end_time": "2025-02-18T15:56:19.306297",
     "exception": false,
     "start_time": "2025-02-18T15:56:19.273251",
     "status": "completed"
    },
    "tags": []
   },
   "outputs": [
    {
     "name": "stdout",
     "output_type": "stream",
     "text": [
      "count    507108.0\n",
      "mean          0.5\n",
      "std           0.0\n",
      "min           0.5\n",
      "25%           0.5\n",
      "50%           0.5\n",
      "75%           0.5\n",
      "max           0.5\n",
      "Name: Pred, dtype: float64\n"
     ]
    }
   ],
   "source": [
    "stats = submission_df.iloc[:, 1].describe()\n",
    "print(stats)"
   ]
  },
  {
   "cell_type": "markdown",
   "id": "4ec0a23e",
   "metadata": {
    "papermill": {
     "duration": 0.003902,
     "end_time": "2025-02-18T15:56:19.314608",
     "exception": false,
     "start_time": "2025-02-18T15:56:19.310706",
     "status": "completed"
    },
    "tags": []
   },
   "source": [
    "## Step 5: Understand the metric"
   ]
  },
  {
   "cell_type": "markdown",
   "id": "872f9b17",
   "metadata": {
    "papermill": {
     "duration": 0.003769,
     "end_time": "2025-02-18T15:56:19.322682",
     "exception": false,
     "start_time": "2025-02-18T15:56:19.318913",
     "status": "completed"
    },
    "tags": []
   },
   "source": [
    "We don't know the outcomes of the games, so instead let's assume that the team that was listed first won every single matchup. This is what we'll call our \"true value\". Next, we'll calculate the average squared difference between the probabilities in our submission and that ground truth value. We'll call this the \"Brier score\". https://en.wikipedia.org/wiki/Brier_score"
   ]
  },
  {
   "cell_type": "code",
   "execution_count": 8,
   "id": "6211e8d3",
   "metadata": {
    "execution": {
     "iopub.execute_input": "2025-02-18T15:56:19.332447Z",
     "iopub.status.busy": "2025-02-18T15:56:19.332079Z",
     "iopub.status.idle": "2025-02-18T15:56:19.358758Z",
     "shell.execute_reply": "2025-02-18T15:56:19.357673Z"
    },
    "papermill": {
     "duration": 0.033486,
     "end_time": "2025-02-18T15:56:19.360575",
     "exception": false,
     "start_time": "2025-02-18T15:56:19.327089",
     "status": "completed"
    },
    "tags": []
   },
   "outputs": [],
   "source": [
    "# Calculate seed difference and generate predictions\n",
    "submission_df['SeedDiff'] = submission_df['SeedValue1'].astype(int) - submission_df['SeedValue2'].astype(int)\n",
    "submission_df['Pred'] = np.clip(0.5 + (0.03 * submission_df['SeedDiff']), 0.05, 0.95)\n"
   ]
  },
  {
   "cell_type": "markdown",
   "id": "5e92e7cd",
   "metadata": {
    "papermill": {
     "duration": 0.003935,
     "end_time": "2025-02-18T15:56:19.368806",
     "exception": false,
     "start_time": "2025-02-18T15:56:19.364871",
     "status": "completed"
    },
    "tags": []
   },
   "source": [
    "## Step 6: Make your submission"
   ]
  },
  {
   "cell_type": "code",
   "execution_count": 9,
   "id": "39fd7f1c",
   "metadata": {
    "execution": {
     "iopub.execute_input": "2025-02-18T15:56:19.378190Z",
     "iopub.status.busy": "2025-02-18T15:56:19.377865Z",
     "iopub.status.idle": "2025-02-18T15:56:20.008067Z",
     "shell.execute_reply": "2025-02-18T15:56:20.007012Z"
    },
    "papermill": {
     "duration": 0.636534,
     "end_time": "2025-02-18T15:56:20.009534",
     "exception": false,
     "start_time": "2025-02-18T15:56:19.373000",
     "status": "completed"
    },
    "tags": []
   },
   "outputs": [
    {
     "name": "stdout",
     "output_type": "stream",
     "text": [
      "count    507108.000000\n",
      "mean          0.497848\n",
      "std           0.147387\n",
      "min           0.050000\n",
      "25%           0.500000\n",
      "50%           0.500000\n",
      "75%           0.500000\n",
      "max           0.950000\n",
      "Name: Pred, dtype: float64\n"
     ]
    }
   ],
   "source": [
    "\n",
    "# Finalize submission\n",
    "submission_df = submission_df[['ID', 'Pred']]\n",
    "submission_df.to_csv('/kaggle/working/submission.csv', index=False)\n",
    "\n",
    "# Display summary stats\n",
    "print(submission_df['Pred'].describe())"
   ]
  }
 ],
 "metadata": {
  "kaggle": {
   "accelerator": "none",
   "dataSources": [
    {
     "databundleVersionId": 11018643,
     "sourceId": 91497,
     "sourceType": "competition"
    }
   ],
   "dockerImageVersionId": 30839,
   "isGpuEnabled": false,
   "isInternetEnabled": true,
   "language": "python",
   "sourceType": "notebook"
  },
  "kernelspec": {
   "display_name": "Python 3",
   "language": "python",
   "name": "python3"
  },
  "language_info": {
   "codemirror_mode": {
    "name": "ipython",
    "version": 3
   },
   "file_extension": ".py",
   "mimetype": "text/x-python",
   "name": "python",
   "nbconvert_exporter": "python",
   "pygments_lexer": "ipython3",
   "version": "3.10.12"
  },
  "papermill": {
   "default_parameters": {},
   "duration": 8.365609,
   "end_time": "2025-02-18T15:56:20.631673",
   "environment_variables": {},
   "exception": null,
   "input_path": "__notebook__.ipynb",
   "output_path": "__notebook__.ipynb",
   "parameters": {},
   "start_time": "2025-02-18T15:56:12.266064",
   "version": "2.6.0"
  }
 },
 "nbformat": 4,
 "nbformat_minor": 5
}
