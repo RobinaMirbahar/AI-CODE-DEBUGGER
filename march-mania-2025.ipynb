{
 "cells": [
  {
   "cell_type": "markdown",
   "id": "ce8d3ddd",
   "metadata": {
    "papermill": {
     "duration": 0.001958,
     "end_time": "2025-02-18T20:00:36.808023",
     "exception": false,
     "start_time": "2025-02-18T20:00:36.806065",
     "status": "completed"
    },
    "tags": []
   },
   "source": [
    "# March Mania 2025 - Starter Notebook"
   ]
  },
  {
   "cell_type": "markdown",
   "id": "3d25435b",
   "metadata": {
    "papermill": {
     "duration": 0.001254,
     "end_time": "2025-02-18T20:00:36.811183",
     "exception": false,
     "start_time": "2025-02-18T20:00:36.809929",
     "status": "completed"
    },
    "tags": []
   },
   "source": [
    "## Goal of the competition\n",
    "\n",
    "The goal of this competition is to predict that probability that the smaller ``TeamID`` will win a given matchup. You will predict the probability for every possible matchup between every possible team over the past 4 years. You'll be given a sample submission file where the ```ID``` value indicates the year of the matchup as well as the identities of both teams within the matchup. For example, for an ```ID``` of ```2025_1101_1104``` you would need to predict the outcome of the matchup between ```TeamID 1101``` vs ```TeamID 1104``` during the ```2025``` tournament. Submitting a ```PRED``` of ```0.75``` indicates that you think that the probability of ```TeamID 1101``` winning that particular matchup is equal to ```0.75```.\n"
   ]
  },
  {
   "cell_type": "markdown",
   "id": "6259e187",
   "metadata": {
    "papermill": {
     "duration": 0.001243,
     "end_time": "2025-02-18T20:00:36.813822",
     "exception": false,
     "start_time": "2025-02-18T20:00:36.812579",
     "status": "completed"
    },
    "tags": []
   },
   "source": [
    "## Overview of our submission strategy \n",
    "For this starter notebook, we will make a simple submission.\n",
    "\n",
    "We can predict the winner of a match by considering the respective rankings of the opposing teams, only. Since the largest possible difference is 15 (which is #16 minus #1), we use a rudimentary formula that's 0.5 plus 0.03 times the difference in seeds, leading to a range of predictions spanning from 5% up to 95%. The stronger-seeded team (with a lower seed number from 1 to 16) will be the favorite and will have a prediction above 50%. "
   ]
  },
  {
   "cell_type": "markdown",
   "id": "6c99dc16",
   "metadata": {
    "papermill": {
     "duration": 0.001221,
     "end_time": "2025-02-18T20:00:36.816472",
     "exception": false,
     "start_time": "2025-02-18T20:00:36.815251",
     "status": "completed"
    },
    "tags": []
   },
   "source": [
    "# Starter Code"
   ]
  },
  {
   "cell_type": "code",
   "execution_count": 1,
   "id": "0f03543a",
   "metadata": {
    "execution": {
     "iopub.execute_input": "2025-02-18T20:00:36.820517Z",
     "iopub.status.busy": "2025-02-18T20:00:36.820177Z",
     "iopub.status.idle": "2025-02-18T20:01:47.084694Z",
     "shell.execute_reply": "2025-02-18T20:01:47.083647Z"
    },
    "papermill": {
     "duration": 70.268161,
     "end_time": "2025-02-18T20:01:47.086080",
     "exception": false,
     "start_time": "2025-02-18T20:00:36.817919",
     "status": "completed"
    },
    "tags": []
   },
   "outputs": [
    {
     "name": "stdout",
     "output_type": "stream",
     "text": [
      "Prediction Summary:\n",
      "Mean Probability: 0.5025\n",
      "Minimum Probability: 0.05\n",
      "Maximum Probability: 0.95\n",
      "\n",
      "Submission file created successfully!\n"
     ]
    }
   ],
   "source": [
    "import pandas as pd\n",
    "import numpy as np\n",
    "\n",
    "# ======================================================================\n",
    "# 1. Load Available Competition Data\n",
    "# ======================================================================\n",
    "try:\n",
    "    # Load seed files\n",
    "    m_seed = pd.read_csv('/kaggle/input/march-machine-learning-mania-2025/MNCAATourneySeeds.csv')\n",
    "    w_seed = pd.read_csv('/kaggle/input/march-machine-learning-mania-2025/WNCAATourneySeeds.csv')\n",
    "    submission = pd.read_csv('/kaggle/input/march-machine-learning-mania-2025/SampleSubmissionStage1.csv')\n",
    "except FileNotFoundError as e:\n",
    "    print(f\"Error loading file: {e}\")\n",
    "    exit()\n",
    "\n",
    "# ======================================================================\n",
    "# 2. Seed Processing with Robust Error Handling\n",
    "# ======================================================================\n",
    "def safe_parse_seed(seed):\n",
    "    \"\"\"Handle various seed formats and missing values\"\"\"\n",
    "    try:\n",
    "        seed_str = str(seed).strip()\n",
    "        if len(seed_str) > 2:\n",
    "            return int(seed_str[1:3])  # For 2-digit seeds like \"W15\"\n",
    "        return int(seed_str[1:])       # For 1-digit seeds like \"W01\"\n",
    "    except:\n",
    "        return 16  # Default to worst seed\n",
    "\n",
    "# Process seed data\n",
    "seed_df = pd.concat([m_seed, w_seed])\n",
    "seed_df['SeedValue'] = seed_df['Seed'].apply(safe_parse_seed)\n",
    "seed_map = seed_df.set_index(['Season', 'TeamID'])['SeedValue']\n",
    "\n",
    "# ======================================================================\n",
    "# 3. Submission Processing\n",
    "# ======================================================================\n",
    "def extract_teams(id_str):\n",
    "    parts = id_str.split('_')\n",
    "    return int(parts[0]), sorted([int(parts[1]), int(parts[2])])\n",
    "\n",
    "# Add season and teams to submission\n",
    "submission[['Season', 'Teams']] = submission['ID'].apply(\n",
    "    lambda x: pd.Series(extract_teams(x))\n",
    ")\n",
    "submission[['Team1', 'Team2']] = pd.DataFrame(submission['Teams'].tolist())\n",
    "\n",
    "# ======================================================================\n",
    "# 4. Feature Engineering\n",
    "# ======================================================================\n",
    "def get_seed(season, team):\n",
    "    try:\n",
    "        return seed_map.at[(season, team)]\n",
    "    except KeyError:\n",
    "        return 16\n",
    "\n",
    "# Add seed information\n",
    "submission['Seed1'] = submission.apply(lambda x: get_seed(x['Season'], x['Team1']), axis=1)\n",
    "submission['Seed2'] = submission.apply(lambda x: get_seed(x['Season'], x['Team2']), axis=1)\n",
    "\n",
    "# Calculate seed difference\n",
    "submission['SeedDiff'] = submission['Seed2'] - submission['Seed1']\n",
    "\n",
    "# ======================================================================\n",
    "# 5. Generate Predictions\n",
    "# ======================================================================\n",
    "submission['Pred'] = (0.5 + 0.03 * submission['SeedDiff']).clip(0.05, 0.95)\n",
    "submission = submission[['ID', 'Pred']]\n",
    "\n",
    "# ======================================================================\n",
    "# 6. Validate and Save\n",
    "# ======================================================================\n",
    "print(\"Prediction Summary:\")\n",
    "print(f\"Mean Probability: {submission['Pred'].mean():.4f}\")\n",
    "print(f\"Minimum Probability: {submission['Pred'].min():.2f}\")\n",
    "print(f\"Maximum Probability: {submission['Pred'].max():.2f}\")\n",
    "\n",
    "submission.to_csv('submission.csv', index=False)\n",
    "print(\"\\nSubmission file created successfully!\")"
   ]
  }
 ],
 "metadata": {
  "kaggle": {
   "accelerator": "none",
   "dataSources": [
    {
     "databundleVersionId": 11018643,
     "sourceId": 91497,
     "sourceType": "competition"
    }
   ],
   "dockerImageVersionId": 30839,
   "isGpuEnabled": false,
   "isInternetEnabled": true,
   "language": "python",
   "sourceType": "notebook"
  },
  "kernelspec": {
   "display_name": "Python 3",
   "language": "python",
   "name": "python3"
  },
  "language_info": {
   "codemirror_mode": {
    "name": "ipython",
    "version": 3
   },
   "file_extension": ".py",
   "mimetype": "text/x-python",
   "name": "python",
   "nbconvert_exporter": "python",
   "pygments_lexer": "ipython3",
   "version": "3.10.12"
  },
  "papermill": {
   "default_parameters": {},
   "duration": 73.288332,
   "end_time": "2025-02-18T20:01:47.504504",
   "environment_variables": {},
   "exception": null,
   "input_path": "__notebook__.ipynb",
   "output_path": "__notebook__.ipynb",
   "parameters": {},
   "start_time": "2025-02-18T20:00:34.216172",
   "version": "2.6.0"
  }
 },
 "nbformat": 4,
 "nbformat_minor": 5
}
