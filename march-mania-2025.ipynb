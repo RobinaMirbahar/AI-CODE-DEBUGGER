{
 "cells": [
  {
   "cell_type": "markdown",
   "id": "36e056d9",
   "metadata": {
    "papermill": {
     "duration": 0.004238,
     "end_time": "2025-02-18T17:29:32.199486",
     "exception": false,
     "start_time": "2025-02-18T17:29:32.195248",
     "status": "completed"
    },
    "tags": []
   },
   "source": [
    "# March Mania 2025 - Starter Notebook"
   ]
  },
  {
   "cell_type": "markdown",
   "id": "511776c2",
   "metadata": {
    "papermill": {
     "duration": 0.003178,
     "end_time": "2025-02-18T17:29:32.206270",
     "exception": false,
     "start_time": "2025-02-18T17:29:32.203092",
     "status": "completed"
    },
    "tags": []
   },
   "source": [
    "## Goal of the competition\n",
    "\n",
    "The goal of this competition is to predict that probability that the smaller ``TeamID`` will win a given matchup. You will predict the probability for every possible matchup between every possible team over the past 4 years. You'll be given a sample submission file where the ```ID``` value indicates the year of the matchup as well as the identities of both teams within the matchup. For example, for an ```ID``` of ```2025_1101_1104``` you would need to predict the outcome of the matchup between ```TeamID 1101``` vs ```TeamID 1104``` during the ```2025``` tournament. Submitting a ```PRED``` of ```0.75``` indicates that you think that the probability of ```TeamID 1101``` winning that particular matchup is equal to ```0.75```.\n"
   ]
  },
  {
   "cell_type": "markdown",
   "id": "9deef125",
   "metadata": {
    "papermill": {
     "duration": 0.003082,
     "end_time": "2025-02-18T17:29:32.212725",
     "exception": false,
     "start_time": "2025-02-18T17:29:32.209643",
     "status": "completed"
    },
    "tags": []
   },
   "source": [
    "## Overview of our submission strategy \n",
    "For this starter notebook, we will make a simple submission.\n",
    "\n",
    "We can predict the winner of a match by considering the respective rankings of the opposing teams, only. Since the largest possible difference is 15 (which is #16 minus #1), we use a rudimentary formula that's 0.5 plus 0.03 times the difference in seeds, leading to a range of predictions spanning from 5% up to 95%. The stronger-seeded team (with a lower seed number from 1 to 16) will be the favorite and will have a prediction above 50%. "
   ]
  },
  {
   "cell_type": "markdown",
   "id": "81fd4d69",
   "metadata": {
    "papermill": {
     "duration": 0.003202,
     "end_time": "2025-02-18T17:29:32.219282",
     "exception": false,
     "start_time": "2025-02-18T17:29:32.216080",
     "status": "completed"
    },
    "tags": []
   },
   "source": [
    "# Starter Code"
   ]
  },
  {
   "cell_type": "markdown",
   "id": "a8043fea",
   "metadata": {
    "papermill": {
     "duration": 0.003074,
     "end_time": "2025-02-18T17:29:32.225591",
     "exception": false,
     "start_time": "2025-02-18T17:29:32.222517",
     "status": "completed"
    },
    "tags": []
   },
   "source": [
    "## Step 1: Import Python packages"
   ]
  },
  {
   "cell_type": "code",
   "execution_count": 1,
   "id": "50474e89",
   "metadata": {
    "_cell_guid": "b1076dfc-b9ad-4769-8c92-a6c4dae69d19",
    "_kg_hide-input": false,
    "_uuid": "8f2839f25d086af736a60e9eeb907d3b93b6e0e5",
    "execution": {
     "iopub.execute_input": "2025-02-18T17:29:32.233443Z",
     "iopub.status.busy": "2025-02-18T17:29:32.233151Z",
     "iopub.status.idle": "2025-02-18T17:29:32.944732Z",
     "shell.execute_reply": "2025-02-18T17:29:32.944080Z"
    },
    "papermill": {
     "duration": 0.717398,
     "end_time": "2025-02-18T17:29:32.946373",
     "exception": false,
     "start_time": "2025-02-18T17:29:32.228975",
     "status": "completed"
    },
    "tags": []
   },
   "outputs": [],
   "source": [
    "import numpy as np\n",
    "import pandas as pd"
   ]
  },
  {
   "cell_type": "markdown",
   "id": "7ee0f7fd",
   "metadata": {
    "papermill": {
     "duration": 0.00327,
     "end_time": "2025-02-18T17:29:32.953337",
     "exception": false,
     "start_time": "2025-02-18T17:29:32.950067",
     "status": "completed"
    },
    "tags": []
   },
   "source": [
    "## Step 2: Explore the data"
   ]
  },
  {
   "cell_type": "code",
   "execution_count": 2,
   "id": "85c66728",
   "metadata": {
    "execution": {
     "iopub.execute_input": "2025-02-18T17:29:32.960930Z",
     "iopub.status.busy": "2025-02-18T17:29:32.960565Z",
     "iopub.status.idle": "2025-02-18T17:29:33.390429Z",
     "shell.execute_reply": "2025-02-18T17:29:33.389453Z"
    },
    "papermill": {
     "duration": 0.435468,
     "end_time": "2025-02-18T17:29:33.392227",
     "exception": false,
     "start_time": "2025-02-18T17:29:32.956759",
     "status": "completed"
    },
    "tags": []
   },
   "outputs": [],
   "source": [
    "w_seed = pd.read_csv('/kaggle/input/march-machine-learning-mania-2025/WNCAATourneySeeds.csv')\n",
    "m_seed = pd.read_csv('/kaggle/input/march-machine-learning-mania-2025/MNCAATourneySeeds.csv')\n",
    "seed_df = pd.concat([m_seed, w_seed], axis=0).fillna(0.05)\n",
    "submission_df = pd.read_csv('/kaggle/input/march-machine-learning-mania-2025/SampleSubmissionStage1.csv')\n"
   ]
  },
  {
   "cell_type": "markdown",
   "id": "22f47662",
   "metadata": {
    "papermill": {
     "duration": 0.003144,
     "end_time": "2025-02-18T17:29:33.399228",
     "exception": false,
     "start_time": "2025-02-18T17:29:33.396084",
     "status": "completed"
    },
    "tags": []
   },
   "source": [
    "Team rankings are present in the files WNCAATourneySeeds.csv and MNCAATourneySeeds.csv. \n",
    "- The \"Season\" column indicates the year\n",
    "- The \"Seed\" column indicates the ranking for a given conference (W01 = ranking 1 in conference W)\n",
    "- The \"TeamID\" column contains a unique identifier for every team"
   ]
  },
  {
   "cell_type": "code",
   "execution_count": 3,
   "id": "17fa7d96",
   "metadata": {
    "execution": {
     "iopub.execute_input": "2025-02-18T17:29:33.406833Z",
     "iopub.status.busy": "2025-02-18T17:29:33.406569Z",
     "iopub.status.idle": "2025-02-18T17:29:33.422638Z",
     "shell.execute_reply": "2025-02-18T17:29:33.421736Z"
    },
    "papermill": {
     "duration": 0.021471,
     "end_time": "2025-02-18T17:29:33.424010",
     "exception": false,
     "start_time": "2025-02-18T17:29:33.402539",
     "status": "completed"
    },
    "tags": []
   },
   "outputs": [
    {
     "name": "stdout",
     "output_type": "stream",
     "text": [
      "   Season Seed  TeamID\n",
      "0    1985  W01    1207\n",
      "1    1985  W02    1210\n",
      "2    1985  W03    1228\n",
      "3    1985  W04    1260\n",
      "4    1985  W05    1374\n",
      "               ID  Pred\n",
      "0  2021_1101_1102   0.5\n",
      "1  2021_1101_1103   0.5\n",
      "2  2021_1101_1104   0.5\n",
      "3  2021_1101_1105   0.5\n",
      "4  2021_1101_1106   0.5\n"
     ]
    }
   ],
   "source": [
    "# Display first few rows to check structure\n",
    "print(seed_df.head())\n",
    "print(submission_df.head())\n"
   ]
  },
  {
   "cell_type": "markdown",
   "id": "58d48f4b",
   "metadata": {
    "papermill": {
     "duration": 0.003296,
     "end_time": "2025-02-18T17:29:33.430795",
     "exception": false,
     "start_time": "2025-02-18T17:29:33.427499",
     "status": "completed"
    },
    "tags": []
   },
   "source": [
    "The sample_submission.csv file contains an \"ID\" column with the format year_teamID1_teamID2."
   ]
  },
  {
   "cell_type": "code",
   "execution_count": 4,
   "id": "9f6c908b",
   "metadata": {
    "execution": {
     "iopub.execute_input": "2025-02-18T17:29:33.438372Z",
     "iopub.status.busy": "2025-02-18T17:29:33.438153Z",
     "iopub.status.idle": "2025-02-18T17:29:33.443036Z",
     "shell.execute_reply": "2025-02-18T17:29:33.442088Z"
    },
    "papermill": {
     "duration": 0.00994,
     "end_time": "2025-02-18T17:29:33.444230",
     "exception": false,
     "start_time": "2025-02-18T17:29:33.434290",
     "status": "completed"
    },
    "tags": []
   },
   "outputs": [
    {
     "name": "stdout",
     "output_type": "stream",
     "text": [
      "               ID  Pred\n",
      "0  2021_1101_1102   0.5\n",
      "1  2021_1101_1103   0.5\n",
      "2  2021_1101_1104   0.5\n",
      "3  2021_1101_1105   0.5\n",
      "4  2021_1101_1106   0.5\n"
     ]
    }
   ],
   "source": [
    "print(submission_df.head())"
   ]
  },
  {
   "cell_type": "markdown",
   "id": "c6cfb6e5",
   "metadata": {
    "papermill": {
     "duration": 0.00323,
     "end_time": "2025-02-18T17:29:33.450954",
     "exception": false,
     "start_time": "2025-02-18T17:29:33.447724",
     "status": "completed"
    },
    "tags": []
   },
   "source": [
    "## Step 3: Extract game info and team rankings"
   ]
  },
  {
   "cell_type": "code",
   "execution_count": 5,
   "id": "5574b152",
   "metadata": {
    "execution": {
     "iopub.execute_input": "2025-02-18T17:29:33.458541Z",
     "iopub.status.busy": "2025-02-18T17:29:33.458306Z",
     "iopub.status.idle": "2025-02-18T17:29:33.466208Z",
     "shell.execute_reply": "2025-02-18T17:29:33.465574Z"
    },
    "papermill": {
     "duration": 0.012939,
     "end_time": "2025-02-18T17:29:33.467303",
     "exception": false,
     "start_time": "2025-02-18T17:29:33.454364",
     "status": "completed"
    },
    "tags": []
   },
   "outputs": [],
   "source": [
    "def extract_game_info(id_str):\n",
    "    year, tid1, tid2 = map(int, id_str.split('_'))\n",
    "    return year, min(tid1, tid2), max(tid1, tid2)  # Ensure smaller TeamID is TeamID1\n",
    "def extract_seed_value(seed_str):\n",
    "    try:\n",
    "        return int(str(seed_str).strip()[1:])  # Extract seed value, ignoring the conference letter (e.g., 'W01' becomes 1)\n",
    "    except:\n",
    "        return 16  # Default to 16 for missing or invalid seeds\n",
    "seed_df['SeedValue'] = seed_df['Seed'].fillna('Z16').apply(extract_seed_value)\n"
   ]
  },
  {
   "cell_type": "markdown",
   "id": "c756c83d",
   "metadata": {
    "papermill": {
     "duration": 0.003208,
     "end_time": "2025-02-18T17:29:33.473925",
     "exception": false,
     "start_time": "2025-02-18T17:29:33.470717",
     "status": "completed"
    },
    "tags": []
   },
   "source": [
    "## Step 4: Make your predictions"
   ]
  },
  {
   "cell_type": "code",
   "execution_count": 6,
   "id": "8de3096f",
   "metadata": {
    "execution": {
     "iopub.execute_input": "2025-02-18T17:29:33.481340Z",
     "iopub.status.busy": "2025-02-18T17:29:33.481142Z",
     "iopub.status.idle": "2025-02-18T17:29:35.626178Z",
     "shell.execute_reply": "2025-02-18T17:29:35.625096Z"
    },
    "papermill": {
     "duration": 2.150432,
     "end_time": "2025-02-18T17:29:35.627712",
     "exception": false,
     "start_time": "2025-02-18T17:29:33.477280",
     "status": "completed"
    },
    "tags": []
   },
   "outputs": [
    {
     "name": "stdout",
     "output_type": "stream",
     "text": [
      "               ID  Pred  Season  TeamID1  TeamID2  SeedValue1  SeedValue2\n",
      "0  2021_1101_1102   0.5    2021     1101     1102        14.0        16.0\n",
      "1  2021_1101_1103   0.5    2021     1101     1103        14.0        16.0\n",
      "2  2021_1101_1104   0.5    2021     1101     1104        14.0         2.0\n",
      "3  2021_1101_1105   0.5    2021     1101     1105        14.0        16.0\n",
      "4  2021_1101_1106   0.5    2021     1101     1106        14.0        16.0\n"
     ]
    }
   ],
   "source": [
    "# Make sure we have the correct columns in submission_df\n",
    "submission_df[['Season', 'TeamID1', 'TeamID2']] = submission_df['ID'].apply(extract_game_info).tolist()\n",
    "\n",
    "# Now try to map the seed values again\n",
    "seed_map = seed_df.set_index(['Season', 'TeamID'])['SeedValue']\n",
    "\n",
    "# Correct mapping of SeedValues for TeamID1 and TeamID2\n",
    "submission_df['SeedValue1'] = submission_df.set_index(['Season', 'TeamID1']).index.map(seed_map).fillna(16)\n",
    "submission_df['SeedValue2'] = submission_df.set_index(['Season', 'TeamID2']).index.map(seed_map).fillna(16)\n",
    "\n",
    "# Check the first few rows to confirm\n",
    "print(submission_df.head())\n"
   ]
  },
  {
   "cell_type": "code",
   "execution_count": 7,
   "id": "bf4983cd",
   "metadata": {
    "execution": {
     "iopub.execute_input": "2025-02-18T17:29:35.637565Z",
     "iopub.status.busy": "2025-02-18T17:29:35.637295Z",
     "iopub.status.idle": "2025-02-18T17:29:35.676105Z",
     "shell.execute_reply": "2025-02-18T17:29:35.675032Z"
    },
    "papermill": {
     "duration": 0.045103,
     "end_time": "2025-02-18T17:29:35.677741",
     "exception": false,
     "start_time": "2025-02-18T17:29:35.632638",
     "status": "completed"
    },
    "tags": []
   },
   "outputs": [
    {
     "name": "stdout",
     "output_type": "stream",
     "text": [
      "count    507108.000000\n",
      "mean          0.502152\n",
      "std           0.147387\n",
      "min           0.050000\n",
      "25%           0.500000\n",
      "50%           0.500000\n",
      "75%           0.500000\n",
      "max           0.950000\n",
      "Name: Pred, dtype: float64\n"
     ]
    }
   ],
   "source": [
    "submission_df['Pred'] = (0.5 + 0.03 * (submission_df['SeedValue2'] - submission_df['SeedValue1'])).clip(0.05, 0.95)\n",
    "\n",
    "stats = submission_df.iloc[:, 1].describe()\n",
    "print(stats)"
   ]
  },
  {
   "cell_type": "markdown",
   "id": "12e733af",
   "metadata": {
    "papermill": {
     "duration": 0.005555,
     "end_time": "2025-02-18T17:29:35.689243",
     "exception": false,
     "start_time": "2025-02-18T17:29:35.683688",
     "status": "completed"
    },
    "tags": []
   },
   "source": [
    "## Step 5: Understand the metric"
   ]
  },
  {
   "cell_type": "markdown",
   "id": "82f82306",
   "metadata": {
    "papermill": {
     "duration": 0.006247,
     "end_time": "2025-02-18T17:29:35.699732",
     "exception": false,
     "start_time": "2025-02-18T17:29:35.693485",
     "status": "completed"
    },
    "tags": []
   },
   "source": [
    "We don't know the outcomes of the games, so instead let's assume that the team that was listed first won every single matchup. This is what we'll call our \"true value\". Next, we'll calculate the average squared difference between the probabilities in our submission and that ground truth value. We'll call this the \"Brier score\". https://en.wikipedia.org/wiki/Brier_score"
   ]
  },
  {
   "cell_type": "code",
   "execution_count": 8,
   "id": "a8d8e005",
   "metadata": {
    "execution": {
     "iopub.execute_input": "2025-02-18T17:29:35.708630Z",
     "iopub.status.busy": "2025-02-18T17:29:35.708383Z",
     "iopub.status.idle": "2025-02-18T17:29:35.721818Z",
     "shell.execute_reply": "2025-02-18T17:29:35.720970Z"
    },
    "papermill": {
     "duration": 0.019728,
     "end_time": "2025-02-18T17:29:35.723274",
     "exception": false,
     "start_time": "2025-02-18T17:29:35.703546",
     "status": "completed"
    },
    "tags": []
   },
   "outputs": [],
   "source": [
    "submission_df['Pred'] = 1 / (1 + np.exp(submission_df['SeedValue1'] - submission_df['SeedValue2']))\n",
    "\n",
    "# Check for NaN or infinite values in predictions (could happen with extreme seed differences)\n",
    "if submission_df['Pred'].isnull().any() or (submission_df['Pred'] == np.inf).any():\n",
    "    print(\"Warning: NaN or infinite values detected in predictions.\")"
   ]
  },
  {
   "cell_type": "markdown",
   "id": "863f0ebb",
   "metadata": {
    "papermill": {
     "duration": 0.003446,
     "end_time": "2025-02-18T17:29:35.730515",
     "exception": false,
     "start_time": "2025-02-18T17:29:35.727069",
     "status": "completed"
    },
    "tags": []
   },
   "source": [
    "## Step 6: Make your submission"
   ]
  },
  {
   "cell_type": "code",
   "execution_count": 9,
   "id": "210a1e52",
   "metadata": {
    "execution": {
     "iopub.execute_input": "2025-02-18T17:29:35.738484Z",
     "iopub.status.busy": "2025-02-18T17:29:35.738260Z",
     "iopub.status.idle": "2025-02-18T17:29:36.393055Z",
     "shell.execute_reply": "2025-02-18T17:29:36.392368Z"
    },
    "papermill": {
     "duration": 0.660101,
     "end_time": "2025-02-18T17:29:36.394393",
     "exception": false,
     "start_time": "2025-02-18T17:29:35.734292",
     "status": "completed"
    },
    "tags": []
   },
   "outputs": [],
   "source": [
    "submission_df[['ID', 'Pred']].to_csv('/kaggle/working/submission.csv', index=False)\n"
   ]
  },
  {
   "cell_type": "code",
   "execution_count": 10,
   "id": "6a089e62",
   "metadata": {
    "execution": {
     "iopub.execute_input": "2025-02-18T17:29:36.402717Z",
     "iopub.status.busy": "2025-02-18T17:29:36.402466Z",
     "iopub.status.idle": "2025-02-18T17:29:36.407169Z",
     "shell.execute_reply": "2025-02-18T17:29:36.406372Z"
    },
    "papermill": {
     "duration": 0.010062,
     "end_time": "2025-02-18T17:29:36.408358",
     "exception": false,
     "start_time": "2025-02-18T17:29:36.398296",
     "status": "completed"
    },
    "tags": []
   },
   "outputs": [
    {
     "name": "stdout",
     "output_type": "stream",
     "text": [
      "#1 seed vs #16: 0.95 → 0.95 (Correct)\n",
      "#8 seed vs #9: 0.53 → 0.53 (Neutral)\n",
      "#16 vs #1: 0.05 → 0.05 (Correct reversal)\n"
     ]
    }
   ],
   "source": [
    "print(f\"#1 seed vs #16: {0.5 + 0.03*(16-1):.2f} → 0.95 (Correct)\")\n",
    "print(f\"#8 seed vs #9: {0.5 + 0.03*(9-8):.2f} → 0.53 (Neutral)\")\n",
    "print(f\"#16 vs #1: {0.5 + 0.03*(1-16):.2f} → 0.05 (Correct reversal)\")\n"
   ]
  }
 ],
 "metadata": {
  "kaggle": {
   "accelerator": "none",
   "dataSources": [
    {
     "databundleVersionId": 11018643,
     "sourceId": 91497,
     "sourceType": "competition"
    }
   ],
   "dockerImageVersionId": 30839,
   "isGpuEnabled": false,
   "isInternetEnabled": true,
   "language": "python",
   "sourceType": "notebook"
  },
  "kernelspec": {
   "display_name": "Python 3",
   "language": "python",
   "name": "python3"
  },
  "language_info": {
   "codemirror_mode": {
    "name": "ipython",
    "version": 3
   },
   "file_extension": ".py",
   "mimetype": "text/x-python",
   "name": "python",
   "nbconvert_exporter": "python",
   "pygments_lexer": "ipython3",
   "version": "3.10.12"
  },
  "papermill": {
   "default_parameters": {},
   "duration": 7.205115,
   "end_time": "2025-02-18T17:29:36.829615",
   "environment_variables": {},
   "exception": null,
   "input_path": "__notebook__.ipynb",
   "output_path": "__notebook__.ipynb",
   "parameters": {},
   "start_time": "2025-02-18T17:29:29.624500",
   "version": "2.6.0"
  }
 },
 "nbformat": 4,
 "nbformat_minor": 5
}
