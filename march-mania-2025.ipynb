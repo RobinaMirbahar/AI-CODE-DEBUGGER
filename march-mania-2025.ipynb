{
 "cells": [
  {
   "cell_type": "markdown",
   "id": "877aa7e2",
   "metadata": {
    "papermill": {
     "duration": 0.001968,
     "end_time": "2025-02-24T18:18:33.211823",
     "exception": false,
     "start_time": "2025-02-24T18:18:33.209855",
     "status": "completed"
    },
    "tags": []
   },
   "source": [
    "# March Mania 2025 - Starter Notebook"
   ]
  },
  {
   "cell_type": "markdown",
   "id": "bb5d8474",
   "metadata": {
    "papermill": {
     "duration": 0.001342,
     "end_time": "2025-02-24T18:18:33.214972",
     "exception": false,
     "start_time": "2025-02-24T18:18:33.213630",
     "status": "completed"
    },
    "tags": []
   },
   "source": [
    "## Goal of the competition\n",
    "\n",
    "The goal of this competition is to predict that probability that the smaller ``TeamID`` will win a given matchup. You will predict the probability for every possible matchup between every possible team over the past 4 years. You'll be given a sample submission file where the ```ID``` value indicates the year of the matchup as well as the identities of both teams within the matchup. For example, for an ```ID``` of ```2025_1101_1104``` you would need to predict the outcome of the matchup between ```TeamID 1101``` vs ```TeamID 1104``` during the ```2025``` tournament. Submitting a ```PRED``` of ```0.75``` indicates that you think that the probability of ```TeamID 1101``` winning that particular matchup is equal to ```0.75```.\n"
   ]
  },
  {
   "cell_type": "markdown",
   "id": "3385bc7f",
   "metadata": {
    "papermill": {
     "duration": 0.00118,
     "end_time": "2025-02-24T18:18:33.217537",
     "exception": false,
     "start_time": "2025-02-24T18:18:33.216357",
     "status": "completed"
    },
    "tags": []
   },
   "source": [
    "## Overview of our submission strategy \n",
    "For this starter notebook, we will make a simple submission.\n",
    "\n",
    "We can predict the winner of a match by considering the respective rankings of the opposing teams, only. Since the largest possible difference is 15 (which is #16 minus #1), we use a rudimentary formula that's 0.5 plus 0.03 times the difference in seeds, leading to a range of predictions spanning from 5% up to 95%. The stronger-seeded team (with a lower seed number from 1 to 16) will be the favorite and will have a prediction above 50%. "
   ]
  },
  {
   "cell_type": "markdown",
   "id": "8584c3b6",
   "metadata": {
    "papermill": {
     "duration": 0.001211,
     "end_time": "2025-02-24T18:18:33.220130",
     "exception": false,
     "start_time": "2025-02-24T18:18:33.218919",
     "status": "completed"
    },
    "tags": []
   },
   "source": [
    "# Starter Code"
   ]
  },
  {
   "cell_type": "code",
   "execution_count": 1,
   "id": "b3bc96af",
   "metadata": {
    "execution": {
     "iopub.execute_input": "2025-02-24T18:18:33.223836Z",
     "iopub.status.busy": "2025-02-24T18:18:33.223562Z",
     "iopub.status.idle": "2025-02-24T18:18:42.479547Z",
     "shell.execute_reply": "2025-02-24T18:18:42.478503Z"
    },
    "papermill": {
     "duration": 9.259414,
     "end_time": "2025-02-24T18:18:42.480891",
     "exception": false,
     "start_time": "2025-02-24T18:18:33.221477",
     "status": "completed"
    },
    "tags": []
   },
   "outputs": [
    {
     "name": "stdout",
     "output_type": "stream",
     "text": [
      "Submission successful! 🏀\n"
     ]
    }
   ],
   "source": [
    "import pandas as pd\n",
    "import numpy as np\n",
    "import re\n",
    "\n",
    "def parse_seed(seed):\n",
    "    if isinstance(seed, str):\n",
    "        digits = re.sub(r\"\\D\", \"\", seed)\n",
    "        return int(digits) if digits else 16\n",
    "    return 16\n",
    "\n",
    "# ======================================================================\n",
    "# 1. Load Seed Data & Add Gender Column\n",
    "# ======================================================================\n",
    "seed_data = pd.read_csv('/kaggle/input/march-machine-learning-mania-2025/MNCAATourneySeeds.csv')\n",
    "seed_data['Gender'] = seed_data['Seed'].str[0]  # Extract 'W' or 'M' from seed\n",
    "seed_data['Gender'] = seed_data['Gender'].replace({'W': 'W', 'M': 'M'}).fillna('M')  # Handle missing values\n",
    "seed_data['Seed'] = seed_data['Seed'].apply(parse_seed)\n",
    "\n",
    "# ======================================================================\n",
    "# 2. Load Sample Submission for 2025 Matchups\n",
    "# ======================================================================\n",
    "submission = pd.read_csv('/kaggle/input/march-machine-learning-mania-2025/SampleSubmissionStage2.csv')\n",
    "\n",
    "# Process ID column\n",
    "sub_pairs = submission['ID'].str.split('_', expand=True)\n",
    "sub_pairs.columns = ['Season', 'TeamID_1', 'TeamID_2']\n",
    "sub_pairs['Season'] = sub_pairs['Season'].astype(int)\n",
    "sub_pairs['TeamID_1'] = sub_pairs['TeamID_1'].astype(int)\n",
    "sub_pairs['TeamID_2'] = sub_pairs['TeamID_2'].astype(int)\n",
    "sub_pairs['Gender'] = np.where(sub_pairs['TeamID_1'].astype(str).str.startswith('1'), 'M', 'W')\n",
    "\n",
    "# ======================================================================\n",
    "# 3. Add Seed Information & Predictions\n",
    "# ======================================================================\n",
    "seed_lookup = seed_data.set_index(['Season', 'Gender', 'TeamID'])['Seed']\n",
    "\n",
    "sub_pairs['Seed_1'] = sub_pairs.apply(\n",
    "    lambda x: seed_lookup.get((x['Season'], x['Gender'], x['TeamID_1']), 16), axis=1\n",
    ")\n",
    "sub_pairs['Seed_2'] = sub_pairs.apply(\n",
    "    lambda x: seed_lookup.get((x['Season'], x['Gender'], x['TeamID_2']), 16), axis=1\n",
    ")\n",
    "\n",
    "sub_pairs['Seed_Diff'] = sub_pairs['Seed_2'] - sub_pairs['Seed_1']\n",
    "sub_pairs['Pred'] = 0.5 + 0.03 * sub_pairs['Seed_Diff']\n",
    "sub_pairs['Pred'] = sub_pairs['Pred'].clip(0.05, 0.95)\n",
    "\n",
    "# ======================================================================\n",
    "# 4. Final Submission\n",
    "# ======================================================================\n",
    "submission['Pred'] = sub_pairs['Pred']\n",
    "submission.to_csv('submission.csv', index=False)\n",
    "print(\"Submission successful! 🏀\")"
   ]
  }
 ],
 "metadata": {
  "kaggle": {
   "accelerator": "gpu",
   "dataSources": [
    {
     "databundleVersionId": 11165145,
     "sourceId": 91497,
     "sourceType": "competition"
    }
   ],
   "dockerImageVersionId": 30839,
   "isGpuEnabled": true,
   "isInternetEnabled": true,
   "language": "python",
   "sourceType": "notebook"
  },
  "kernelspec": {
   "display_name": "Python 3",
   "language": "python",
   "name": "python3"
  },
  "language_info": {
   "codemirror_mode": {
    "name": "ipython",
    "version": 3
   },
   "file_extension": ".py",
   "mimetype": "text/x-python",
   "name": "python",
   "nbconvert_exporter": "python",
   "pygments_lexer": "ipython3",
   "version": "3.10.12"
  },
  "papermill": {
   "default_parameters": {},
   "duration": 12.252545,
   "end_time": "2025-02-24T18:18:42.900048",
   "environment_variables": {},
   "exception": null,
   "input_path": "__notebook__.ipynb",
   "output_path": "__notebook__.ipynb",
   "parameters": {},
   "start_time": "2025-02-24T18:18:30.647503",
   "version": "2.6.0"
  }
 },
 "nbformat": 4,
 "nbformat_minor": 5
}
