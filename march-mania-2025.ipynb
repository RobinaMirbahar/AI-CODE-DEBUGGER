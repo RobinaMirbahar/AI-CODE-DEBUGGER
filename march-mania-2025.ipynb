{
 "cells": [
  {
   "cell_type": "markdown",
   "id": "f0187b48",
   "metadata": {
    "papermill": {
     "duration": 0.001994,
     "end_time": "2025-02-18T20:42:33.525971",
     "exception": false,
     "start_time": "2025-02-18T20:42:33.523977",
     "status": "completed"
    },
    "tags": []
   },
   "source": [
    "# March Mania 2025 - Starter Notebook"
   ]
  },
  {
   "cell_type": "markdown",
   "id": "3bf65a51",
   "metadata": {
    "papermill": {
     "duration": 0.001209,
     "end_time": "2025-02-18T20:42:33.528959",
     "exception": false,
     "start_time": "2025-02-18T20:42:33.527750",
     "status": "completed"
    },
    "tags": []
   },
   "source": [
    "## Goal of the competition\n",
    "\n",
    "The goal of this competition is to predict that probability that the smaller ``TeamID`` will win a given matchup. You will predict the probability for every possible matchup between every possible team over the past 4 years. You'll be given a sample submission file where the ```ID``` value indicates the year of the matchup as well as the identities of both teams within the matchup. For example, for an ```ID``` of ```2025_1101_1104``` you would need to predict the outcome of the matchup between ```TeamID 1101``` vs ```TeamID 1104``` during the ```2025``` tournament. Submitting a ```PRED``` of ```0.75``` indicates that you think that the probability of ```TeamID 1101``` winning that particular matchup is equal to ```0.75```.\n"
   ]
  },
  {
   "cell_type": "markdown",
   "id": "0587cabc",
   "metadata": {
    "papermill": {
     "duration": 0.001213,
     "end_time": "2025-02-18T20:42:33.531525",
     "exception": false,
     "start_time": "2025-02-18T20:42:33.530312",
     "status": "completed"
    },
    "tags": []
   },
   "source": [
    "## Overview of our submission strategy \n",
    "For this starter notebook, we will make a simple submission.\n",
    "\n",
    "We can predict the winner of a match by considering the respective rankings of the opposing teams, only. Since the largest possible difference is 15 (which is #16 minus #1), we use a rudimentary formula that's 0.5 plus 0.03 times the difference in seeds, leading to a range of predictions spanning from 5% up to 95%. The stronger-seeded team (with a lower seed number from 1 to 16) will be the favorite and will have a prediction above 50%. "
   ]
  },
  {
   "cell_type": "markdown",
   "id": "732e4f49",
   "metadata": {
    "papermill": {
     "duration": 0.001189,
     "end_time": "2025-02-18T20:42:33.534075",
     "exception": false,
     "start_time": "2025-02-18T20:42:33.532886",
     "status": "completed"
    },
    "tags": []
   },
   "source": [
    "# Starter Code"
   ]
  },
  {
   "cell_type": "code",
   "execution_count": 1,
   "id": "90e7bdc4",
   "metadata": {
    "execution": {
     "iopub.execute_input": "2025-02-18T20:42:33.538423Z",
     "iopub.status.busy": "2025-02-18T20:42:33.538126Z",
     "iopub.status.idle": "2025-02-18T20:43:20.618458Z",
     "shell.execute_reply": "2025-02-18T20:43:20.617792Z"
    },
    "papermill": {
     "duration": 47.084421,
     "end_time": "2025-02-18T20:43:20.620023",
     "exception": false,
     "start_time": "2025-02-18T20:42:33.535602",
     "status": "completed"
    },
    "tags": []
   },
   "outputs": [
    {
     "name": "stdout",
     "output_type": "stream",
     "text": [
      "Prediction Statistics:\n",
      "Mean: 0.5245\n",
      "Brier Estimate: 0.03199\n"
     ]
    }
   ],
   "source": [
    "import pandas as pd\n",
    "import numpy as np\n",
    "from sklearn.linear_model import LogisticRegression\n",
    "from sklearn.calibration import CalibratedClassifierCV\n",
    "\n",
    "# ==============================================\n",
    "# 1. Data Loading & Processing\n",
    "# ==============================================\n",
    "\n",
    "# Load data\n",
    "m_seed = pd.read_csv('/kaggle/input/march-machine-learning-mania-2025/MNCAATourneySeeds.csv')\n",
    "w_seed = pd.read_csv('/kaggle/input/march-machine-learning-mania-2025/WNCAATourneySeeds.csv')\n",
    "tourney_results = pd.concat([\n",
    "    pd.read_csv('/kaggle/input/march-machine-learning-mania-2025/MNCAATourneyCompactResults.csv'),\n",
    "    pd.read_csv('/kaggle/input/march-machine-learning-mania-2025/WNCAATourneyCompactResults.csv')\n",
    "])\n",
    "submission = pd.read_csv('/kaggle/input/march-machine-learning-mania-2025/SampleSubmissionStage1.csv')\n",
    "\n",
    "# ==============================================\n",
    "# 2. Correct Training Data Preparation\n",
    "# ==============================================\n",
    "\n",
    "def parse_seed(seed):\n",
    "    \"\"\"Extract numeric seed value from any format\"\"\"\n",
    "    return int(''.join(filter(str.isdigit, str(seed)))) if pd.notnull(seed) else 16\n",
    "\n",
    "# Process seeds\n",
    "seed_df = pd.concat([m_seed, w_seed])\n",
    "seed_df['SeedValue'] = seed_df['Seed'].apply(parse_seed)\n",
    "seed_map = seed_df.set_index(['Season', 'TeamID'])['SeedValue']\n",
    "\n",
    "# Prepare training data in submission format\n",
    "train_data = []\n",
    "for _, row in tourney_results.iterrows():\n",
    "    season = row['Season']\n",
    "    team1, team2 = sorted([row['WTeamID'], row['LTeamID']])\n",
    "    outcome = 1 if row['WTeamID'] == team1 else 0\n",
    "    \n",
    "    try:\n",
    "        seed1 = seed_map.at[(season, team1)]\n",
    "        seed2 = seed_map.at[(season, team2)]\n",
    "    except KeyError:\n",
    "        continue\n",
    "        \n",
    "    train_data.append({\n",
    "        'Season': season,\n",
    "        'SeedDiff': seed2 - seed1,  # Team2 seed - Team1 seed\n",
    "        'Outcome': outcome          # 1 if Team1 wins\n",
    "    })\n",
    "\n",
    "train_df = pd.DataFrame(train_data)\n",
    "\n",
    "# ==============================================\n",
    "# 3. Model Training\n",
    "# ==============================================\n",
    "\n",
    "# Features and target\n",
    "X = train_df[['SeedDiff']]\n",
    "y = train_df['Outcome']\n",
    "\n",
    "# Calibrated logistic regression\n",
    "model = CalibratedClassifierCV(\n",
    "    LogisticRegression(),\n",
    "    method='isotonic',\n",
    "    cv=5\n",
    ")\n",
    "model.fit(X, y)\n",
    "\n",
    "# ==============================================\n",
    "# 4. Generate Predictions\n",
    "# ==============================================\n",
    "\n",
    "# Process submission data\n",
    "split_cols = submission['ID'].str.split('_', expand=True).iloc[:, :3]\n",
    "split_cols.columns = ['Season', 'Team1', 'Team2']\n",
    "submission = submission.join(split_cols.astype(int))\n",
    "\n",
    "# Get seeds\n",
    "submission['Seed1'] = submission.apply(\n",
    "    lambda x: seed_map.get((x['Season'], x['Team1']), 16), axis=1)\n",
    "submission['Seed2'] = submission.apply(\n",
    "    lambda x: seed_map.get((x['Season'], x['Team2']), 16), axis=1)\n",
    "\n",
    "# Calculate features\n",
    "submission['SeedDiff'] = submission['Seed2'] - submission['Seed1']\n",
    "\n",
    "# Predict probabilities\n",
    "submission['Pred'] = model.predict_proba(submission[['SeedDiff']])[:, 1]\n",
    "submission['Pred'] = submission['Pred'].clip(0.05, 0.95)\n",
    "\n",
    "# ==============================================\n",
    "# 5. Final Output\n",
    "# ==============================================\n",
    "\n",
    "print(\"Prediction Statistics:\")\n",
    "print(f\"Mean: {submission['Pred'].mean():.4f}\")\n",
    "print(f\"Brier Estimate: {np.mean((submission['Pred'] - 0.5)**2):.5f}\")\n",
    "submission[['ID', 'Pred']].to_csv('corrected_submission.csv', index=False)"
   ]
  }
 ],
 "metadata": {
  "kaggle": {
   "accelerator": "gpu",
   "dataSources": [
    {
     "databundleVersionId": 11018643,
     "sourceId": 91497,
     "sourceType": "competition"
    }
   ],
   "dockerImageVersionId": 30839,
   "isGpuEnabled": true,
   "isInternetEnabled": true,
   "language": "python",
   "sourceType": "notebook"
  },
  "kernelspec": {
   "display_name": "Python 3",
   "language": "python",
   "name": "python3"
  },
  "language_info": {
   "codemirror_mode": {
    "name": "ipython",
    "version": 3
   },
   "file_extension": ".py",
   "mimetype": "text/x-python",
   "name": "python",
   "nbconvert_exporter": "python",
   "pygments_lexer": "ipython3",
   "version": "3.10.12"
  },
  "papermill": {
   "default_parameters": {},
   "duration": 50.415998,
   "end_time": "2025-02-18T20:43:21.240801",
   "environment_variables": {},
   "exception": null,
   "input_path": "__notebook__.ipynb",
   "output_path": "__notebook__.ipynb",
   "parameters": {},
   "start_time": "2025-02-18T20:42:30.824803",
   "version": "2.6.0"
  }
 },
 "nbformat": 4,
 "nbformat_minor": 5
}
