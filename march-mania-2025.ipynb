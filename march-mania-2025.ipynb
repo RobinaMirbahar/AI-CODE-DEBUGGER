{
 "cells": [
  {
   "cell_type": "markdown",
   "id": "ef5bf610",
   "metadata": {
    "papermill": {
     "duration": 0.004029,
     "end_time": "2025-02-18T06:10:12.536558",
     "exception": false,
     "start_time": "2025-02-18T06:10:12.532529",
     "status": "completed"
    },
    "tags": []
   },
   "source": [
    "# March Mania 2025 - Starter Notebook"
   ]
  },
  {
   "cell_type": "markdown",
   "id": "9bb3fd23",
   "metadata": {
    "papermill": {
     "duration": 0.002961,
     "end_time": "2025-02-18T06:10:12.542902",
     "exception": false,
     "start_time": "2025-02-18T06:10:12.539941",
     "status": "completed"
    },
    "tags": []
   },
   "source": [
    "## Goal of the competition\n",
    "\n",
    "The goal of this competition is to predict that probability that the smaller ``TeamID`` will win a given matchup. You will predict the probability for every possible matchup between every possible team over the past 4 years. You'll be given a sample submission file where the ```ID``` value indicates the year of the matchup as well as the identities of both teams within the matchup. For example, for an ```ID``` of ```2025_1101_1104``` you would need to predict the outcome of the matchup between ```TeamID 1101``` vs ```TeamID 1104``` during the ```2025``` tournament. Submitting a ```PRED``` of ```0.75``` indicates that you think that the probability of ```TeamID 1101``` winning that particular matchup is equal to ```0.75```.\n"
   ]
  },
  {
   "cell_type": "markdown",
   "id": "90ada8c3",
   "metadata": {
    "papermill": {
     "duration": 0.002883,
     "end_time": "2025-02-18T06:10:12.548916",
     "exception": false,
     "start_time": "2025-02-18T06:10:12.546033",
     "status": "completed"
    },
    "tags": []
   },
   "source": [
    "## Overview of our submission strategy \n",
    "For this starter notebook, we will make a simple submission.\n",
    "\n",
    "We can predict the winner of a match by considering the respective rankings of the opposing teams, only. Since the largest possible difference is 15 (which is #16 minus #1), we use a rudimentary formula that's 0.5 plus 0.03 times the difference in seeds, leading to a range of predictions spanning from 5% up to 95%. The stronger-seeded team (with a lower seed number from 1 to 16) will be the favorite and will have a prediction above 50%. "
   ]
  },
  {
   "cell_type": "markdown",
   "id": "266025d4",
   "metadata": {
    "papermill": {
     "duration": 0.00289,
     "end_time": "2025-02-18T06:10:12.554851",
     "exception": false,
     "start_time": "2025-02-18T06:10:12.551961",
     "status": "completed"
    },
    "tags": []
   },
   "source": [
    "# Starter Code"
   ]
  },
  {
   "cell_type": "markdown",
   "id": "e22beb26",
   "metadata": {
    "papermill": {
     "duration": 0.002922,
     "end_time": "2025-02-18T06:10:12.560874",
     "exception": false,
     "start_time": "2025-02-18T06:10:12.557952",
     "status": "completed"
    },
    "tags": []
   },
   "source": [
    "## Step 1: Import Python packages"
   ]
  },
  {
   "cell_type": "code",
   "execution_count": 1,
   "id": "e23f61f7",
   "metadata": {
    "_cell_guid": "b1076dfc-b9ad-4769-8c92-a6c4dae69d19",
    "_kg_hide-input": false,
    "_uuid": "8f2839f25d086af736a60e9eeb907d3b93b6e0e5",
    "execution": {
     "iopub.execute_input": "2025-02-18T06:10:12.568163Z",
     "iopub.status.busy": "2025-02-18T06:10:12.567850Z",
     "iopub.status.idle": "2025-02-18T06:10:14.404064Z",
     "shell.execute_reply": "2025-02-18T06:10:14.403369Z"
    },
    "papermill": {
     "duration": 1.841589,
     "end_time": "2025-02-18T06:10:14.405561",
     "exception": false,
     "start_time": "2025-02-18T06:10:12.563972",
     "status": "completed"
    },
    "tags": []
   },
   "outputs": [],
   "source": [
    "import numpy as np\n",
    "import pandas as pd\n",
    "from sklearn.metrics import brier_score_loss, mean_squared_error"
   ]
  },
  {
   "cell_type": "markdown",
   "id": "e73f29e5",
   "metadata": {
    "papermill": {
     "duration": 0.003025,
     "end_time": "2025-02-18T06:10:14.412188",
     "exception": false,
     "start_time": "2025-02-18T06:10:14.409163",
     "status": "completed"
    },
    "tags": []
   },
   "source": [
    "## Step 2: Explore the data"
   ]
  },
  {
   "cell_type": "code",
   "execution_count": 2,
   "id": "72ec4841",
   "metadata": {
    "execution": {
     "iopub.execute_input": "2025-02-18T06:10:14.419273Z",
     "iopub.status.busy": "2025-02-18T06:10:14.418925Z",
     "iopub.status.idle": "2025-02-18T06:10:14.801600Z",
     "shell.execute_reply": "2025-02-18T06:10:14.800933Z"
    },
    "papermill": {
     "duration": 0.387894,
     "end_time": "2025-02-18T06:10:14.803157",
     "exception": false,
     "start_time": "2025-02-18T06:10:14.415263",
     "status": "completed"
    },
    "tags": []
   },
   "outputs": [],
   "source": [
    "w_seed = pd.read_csv('/kaggle/input/march-machine-learning-mania-2025/WNCAATourneySeeds.csv')\n",
    "m_seed = pd.read_csv('/kaggle/input/march-machine-learning-mania-2025/MNCAATourneySeeds.csv')\n",
    "seed_df = pd.concat([m_seed, w_seed], axis=0).drop_duplicates(subset=['Season', 'TeamID'])\n",
    "submission_df = pd.read_csv('/kaggle/input/march-machine-learning-mania-2025/SampleSubmissionStage1.csv')\n"
   ]
  },
  {
   "cell_type": "markdown",
   "id": "4ff75207",
   "metadata": {
    "papermill": {
     "duration": 0.003056,
     "end_time": "2025-02-18T06:10:14.809833",
     "exception": false,
     "start_time": "2025-02-18T06:10:14.806777",
     "status": "completed"
    },
    "tags": []
   },
   "source": [
    "Team rankings are present in the files WNCAATourneySeeds.csv and MNCAATourneySeeds.csv. \n",
    "- The \"Season\" column indicates the year\n",
    "- The \"Seed\" column indicates the ranking for a given conference (W01 = ranking 1 in conference W)\n",
    "- The \"TeamID\" column contains a unique identifier for every team"
   ]
  },
  {
   "cell_type": "code",
   "execution_count": 3,
   "id": "a32d92c3",
   "metadata": {
    "execution": {
     "iopub.execute_input": "2025-02-18T06:10:14.817026Z",
     "iopub.status.busy": "2025-02-18T06:10:14.816785Z",
     "iopub.status.idle": "2025-02-18T06:10:14.825994Z",
     "shell.execute_reply": "2025-02-18T06:10:14.825139Z"
    },
    "papermill": {
     "duration": 0.014174,
     "end_time": "2025-02-18T06:10:14.827191",
     "exception": false,
     "start_time": "2025-02-18T06:10:14.813017",
     "status": "completed"
    },
    "tags": []
   },
   "outputs": [
    {
     "name": "stdout",
     "output_type": "stream",
     "text": [
      "   Season Seed  TeamID\n",
      "0    1985  W01    1207\n",
      "1    1985  W02    1210\n",
      "2    1985  W03    1228\n",
      "3    1985  W04    1260\n",
      "4    1985  W05    1374\n"
     ]
    }
   ],
   "source": [
    "# Display first few rows to check structure\n",
    "print(seed_df.head())\n",
    "\n"
   ]
  },
  {
   "cell_type": "markdown",
   "id": "c167e762",
   "metadata": {
    "papermill": {
     "duration": 0.002983,
     "end_time": "2025-02-18T06:10:14.833442",
     "exception": false,
     "start_time": "2025-02-18T06:10:14.830459",
     "status": "completed"
    },
    "tags": []
   },
   "source": [
    "The sample_submission.csv file contains an \"ID\" column with the format year_teamID1_teamID2."
   ]
  },
  {
   "cell_type": "code",
   "execution_count": 4,
   "id": "3da3ad3b",
   "metadata": {
    "execution": {
     "iopub.execute_input": "2025-02-18T06:10:14.840423Z",
     "iopub.status.busy": "2025-02-18T06:10:14.840214Z",
     "iopub.status.idle": "2025-02-18T06:10:14.845716Z",
     "shell.execute_reply": "2025-02-18T06:10:14.844944Z"
    },
    "papermill": {
     "duration": 0.010234,
     "end_time": "2025-02-18T06:10:14.846838",
     "exception": false,
     "start_time": "2025-02-18T06:10:14.836604",
     "status": "completed"
    },
    "tags": []
   },
   "outputs": [
    {
     "name": "stdout",
     "output_type": "stream",
     "text": [
      "               ID  Pred\n",
      "0  2021_1101_1102   0.5\n",
      "1  2021_1101_1103   0.5\n",
      "2  2021_1101_1104   0.5\n",
      "3  2021_1101_1105   0.5\n",
      "4  2021_1101_1106   0.5\n"
     ]
    }
   ],
   "source": [
    "print(submission_df.head())"
   ]
  },
  {
   "cell_type": "markdown",
   "id": "d0027c6a",
   "metadata": {
    "papermill": {
     "duration": 0.003007,
     "end_time": "2025-02-18T06:10:14.853174",
     "exception": false,
     "start_time": "2025-02-18T06:10:14.850167",
     "status": "completed"
    },
    "tags": []
   },
   "source": [
    "## Step 3: Extract game info and team rankings"
   ]
  },
  {
   "cell_type": "code",
   "execution_count": 5,
   "id": "f84e818b",
   "metadata": {
    "execution": {
     "iopub.execute_input": "2025-02-18T06:10:14.860202Z",
     "iopub.status.busy": "2025-02-18T06:10:14.859993Z",
     "iopub.status.idle": "2025-02-18T06:10:15.821325Z",
     "shell.execute_reply": "2025-02-18T06:10:15.820650Z"
    },
    "papermill": {
     "duration": 0.966478,
     "end_time": "2025-02-18T06:10:15.822812",
     "exception": false,
     "start_time": "2025-02-18T06:10:14.856334",
     "status": "completed"
    },
    "tags": []
   },
   "outputs": [],
   "source": [
    "# Extract game info\n",
    "def extract_game_info(id_str):\n",
    "    parts = id_str.split('_')\n",
    "    return int(parts[0]), int(parts[1]), int(parts[2])\n",
    "\n",
    "def extract_seed_value(seed_str):\n",
    "    try:\n",
    "        return int(seed_str[1:])\n",
    "    except ValueError:\n",
    "        return 16\n",
    "\n",
    "# Apply transformations\n",
    "submission_df[['Season', 'TeamID1', 'TeamID2']] = submission_df['ID'].apply(extract_game_info).tolist()\n",
    "seed_df['SeedValue'] = seed_df['Seed'].apply(extract_seed_value)\n"
   ]
  },
  {
   "cell_type": "markdown",
   "id": "a1f35790",
   "metadata": {
    "papermill": {
     "duration": 0.004168,
     "end_time": "2025-02-18T06:10:15.831063",
     "exception": false,
     "start_time": "2025-02-18T06:10:15.826895",
     "status": "completed"
    },
    "tags": []
   },
   "source": [
    "## Step 4: Make your predictions"
   ]
  },
  {
   "cell_type": "code",
   "execution_count": 6,
   "id": "c3d1ad6a",
   "metadata": {
    "execution": {
     "iopub.execute_input": "2025-02-18T06:10:15.839188Z",
     "iopub.status.busy": "2025-02-18T06:10:15.838943Z",
     "iopub.status.idle": "2025-02-18T06:10:16.202958Z",
     "shell.execute_reply": "2025-02-18T06:10:16.202173Z"
    },
    "papermill": {
     "duration": 0.369455,
     "end_time": "2025-02-18T06:10:16.204482",
     "exception": false,
     "start_time": "2025-02-18T06:10:15.835027",
     "status": "completed"
    },
    "tags": []
   },
   "outputs": [],
   "source": [
    "# Merge seed information\n",
    "submission_df = submission_df.merge(seed_df[['Season', 'TeamID', 'SeedValue']], \n",
    "                                    left_on=['Season', 'TeamID1'], right_on=['Season', 'TeamID'], how='left')\n",
    "submission_df = submission_df.rename(columns={'SeedValue': 'SeedValue1'}).drop(columns=['TeamID'])\n",
    "\n",
    "submission_df = submission_df.merge(seed_df[['Season', 'TeamID', 'SeedValue']], \n",
    "                                    left_on=['Season', 'TeamID2'], right_on=['Season', 'TeamID'], how='left')\n",
    "submission_df = submission_df.rename(columns={'SeedValue': 'SeedValue2'}).drop(columns=['TeamID'])\n",
    "\n",
    "# Ensure no duplicate columns and fill missing values\n",
    "submission_df = submission_df.drop_duplicates()\n",
    "submission_df[['SeedValue1', 'SeedValue2']] = submission_df[['SeedValue1', 'SeedValue2']].fillna(16)\n"
   ]
  },
  {
   "cell_type": "code",
   "execution_count": 7,
   "id": "6bb6e714",
   "metadata": {
    "execution": {
     "iopub.execute_input": "2025-02-18T06:10:16.212313Z",
     "iopub.status.busy": "2025-02-18T06:10:16.212082Z",
     "iopub.status.idle": "2025-02-18T06:10:16.237506Z",
     "shell.execute_reply": "2025-02-18T06:10:16.236681Z"
    },
    "papermill": {
     "duration": 0.030651,
     "end_time": "2025-02-18T06:10:16.238842",
     "exception": false,
     "start_time": "2025-02-18T06:10:16.208191",
     "status": "completed"
    },
    "tags": []
   },
   "outputs": [
    {
     "name": "stdout",
     "output_type": "stream",
     "text": [
      "count    507108.0\n",
      "mean          0.5\n",
      "std           0.0\n",
      "min           0.5\n",
      "25%           0.5\n",
      "50%           0.5\n",
      "75%           0.5\n",
      "max           0.5\n",
      "Name: Pred, dtype: float64\n"
     ]
    }
   ],
   "source": [
    "stats = submission_df.iloc[:, 1].describe()\n",
    "print(stats)"
   ]
  },
  {
   "cell_type": "markdown",
   "id": "5ce9648d",
   "metadata": {
    "papermill": {
     "duration": 0.007286,
     "end_time": "2025-02-18T06:10:16.250665",
     "exception": false,
     "start_time": "2025-02-18T06:10:16.243379",
     "status": "completed"
    },
    "tags": []
   },
   "source": [
    "## Step 5: Understand the metric"
   ]
  },
  {
   "cell_type": "markdown",
   "id": "139f9122",
   "metadata": {
    "papermill": {
     "duration": 0.00599,
     "end_time": "2025-02-18T06:10:16.263314",
     "exception": false,
     "start_time": "2025-02-18T06:10:16.257324",
     "status": "completed"
    },
    "tags": []
   },
   "source": [
    "We don't know the outcomes of the games, so instead let's assume that the team that was listed first won every single matchup. This is what we'll call our \"true value\". Next, we'll calculate the average squared difference between the probabilities in our submission and that ground truth value. We'll call this the \"Brier score\". https://en.wikipedia.org/wiki/Brier_score"
   ]
  },
  {
   "cell_type": "code",
   "execution_count": 8,
   "id": "1970e52d",
   "metadata": {
    "execution": {
     "iopub.execute_input": "2025-02-18T06:10:16.276818Z",
     "iopub.status.busy": "2025-02-18T06:10:16.276278Z",
     "iopub.status.idle": "2025-02-18T06:10:16.307872Z",
     "shell.execute_reply": "2025-02-18T06:10:16.306403Z"
    },
    "papermill": {
     "duration": 0.041319,
     "end_time": "2025-02-18T06:10:16.310151",
     "exception": false,
     "start_time": "2025-02-18T06:10:16.268832",
     "status": "completed"
    },
    "tags": []
   },
   "outputs": [],
   "source": [
    "# Calculate seed difference and generate predictions\n",
    "submission_df['SeedDiff'] = submission_df['SeedValue1'].astype(int) - submission_df['SeedValue2'].astype(int)\n",
    "submission_df['Pred'] = np.clip(0.5 + (0.03 * submission_df['SeedDiff']), 0.05, 0.95)\n"
   ]
  },
  {
   "cell_type": "markdown",
   "id": "de01ddde",
   "metadata": {
    "papermill": {
     "duration": 0.003194,
     "end_time": "2025-02-18T06:10:16.317477",
     "exception": false,
     "start_time": "2025-02-18T06:10:16.314283",
     "status": "completed"
    },
    "tags": []
   },
   "source": [
    "## Step 6: Make your submission"
   ]
  },
  {
   "cell_type": "code",
   "execution_count": 9,
   "id": "6db848e3",
   "metadata": {
    "execution": {
     "iopub.execute_input": "2025-02-18T06:10:16.324996Z",
     "iopub.status.busy": "2025-02-18T06:10:16.324708Z",
     "iopub.status.idle": "2025-02-18T06:10:16.891927Z",
     "shell.execute_reply": "2025-02-18T06:10:16.890870Z"
    },
    "papermill": {
     "duration": 0.572603,
     "end_time": "2025-02-18T06:10:16.893442",
     "exception": false,
     "start_time": "2025-02-18T06:10:16.320839",
     "status": "completed"
    },
    "tags": []
   },
   "outputs": [
    {
     "name": "stdout",
     "output_type": "stream",
     "text": [
      "count    507108.000000\n",
      "mean          0.497848\n",
      "std           0.147387\n",
      "min           0.050000\n",
      "25%           0.500000\n",
      "50%           0.500000\n",
      "75%           0.500000\n",
      "max           0.950000\n",
      "Name: Pred, dtype: float64\n"
     ]
    }
   ],
   "source": [
    "# Finalize submission\n",
    "submission_df = submission_df[['ID', 'Pred']]\n",
    "submission_df.to_csv('/kaggle/working/submission.csv', index=False)\n",
    "\n",
    "# Display summary stats\n",
    "print(submission_df['Pred'].describe())"
   ]
  }
 ],
 "metadata": {
  "kaggle": {
   "accelerator": "none",
   "dataSources": [
    {
     "databundleVersionId": 11018643,
     "sourceId": 91497,
     "sourceType": "competition"
    }
   ],
   "dockerImageVersionId": 30839,
   "isGpuEnabled": false,
   "isInternetEnabled": true,
   "language": "python",
   "sourceType": "notebook"
  },
  "kernelspec": {
   "display_name": "Python 3",
   "language": "python",
   "name": "python3"
  },
  "language_info": {
   "codemirror_mode": {
    "name": "ipython",
    "version": 3
   },
   "file_extension": ".py",
   "mimetype": "text/x-python",
   "name": "python",
   "nbconvert_exporter": "python",
   "pygments_lexer": "ipython3",
   "version": "3.10.12"
  },
  "papermill": {
   "default_parameters": {},
   "duration": 7.601649,
   "end_time": "2025-02-18T06:10:17.514788",
   "environment_variables": {},
   "exception": null,
   "input_path": "__notebook__.ipynb",
   "output_path": "__notebook__.ipynb",
   "parameters": {},
   "start_time": "2025-02-18T06:10:09.913139",
   "version": "2.6.0"
  }
 },
 "nbformat": 4,
 "nbformat_minor": 5
}
