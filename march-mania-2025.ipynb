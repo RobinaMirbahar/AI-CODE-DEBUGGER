{
 "cells": [
  {
   "cell_type": "markdown",
   "id": "1c497fba",
   "metadata": {
    "papermill": {
     "duration": 0.002044,
     "end_time": "2025-02-18T20:35:17.138330",
     "exception": false,
     "start_time": "2025-02-18T20:35:17.136286",
     "status": "completed"
    },
    "tags": []
   },
   "source": [
    "# March Mania 2025 - Starter Notebook"
   ]
  },
  {
   "cell_type": "markdown",
   "id": "8a963eb2",
   "metadata": {
    "papermill": {
     "duration": 0.001281,
     "end_time": "2025-02-18T20:35:17.141499",
     "exception": false,
     "start_time": "2025-02-18T20:35:17.140218",
     "status": "completed"
    },
    "tags": []
   },
   "source": [
    "## Goal of the competition\n",
    "\n",
    "The goal of this competition is to predict that probability that the smaller ``TeamID`` will win a given matchup. You will predict the probability for every possible matchup between every possible team over the past 4 years. You'll be given a sample submission file where the ```ID``` value indicates the year of the matchup as well as the identities of both teams within the matchup. For example, for an ```ID``` of ```2025_1101_1104``` you would need to predict the outcome of the matchup between ```TeamID 1101``` vs ```TeamID 1104``` during the ```2025``` tournament. Submitting a ```PRED``` of ```0.75``` indicates that you think that the probability of ```TeamID 1101``` winning that particular matchup is equal to ```0.75```.\n"
   ]
  },
  {
   "cell_type": "markdown",
   "id": "b8dfdfe4",
   "metadata": {
    "papermill": {
     "duration": 0.001216,
     "end_time": "2025-02-18T20:35:17.144167",
     "exception": false,
     "start_time": "2025-02-18T20:35:17.142951",
     "status": "completed"
    },
    "tags": []
   },
   "source": [
    "## Overview of our submission strategy \n",
    "For this starter notebook, we will make a simple submission.\n",
    "\n",
    "We can predict the winner of a match by considering the respective rankings of the opposing teams, only. Since the largest possible difference is 15 (which is #16 minus #1), we use a rudimentary formula that's 0.5 plus 0.03 times the difference in seeds, leading to a range of predictions spanning from 5% up to 95%. The stronger-seeded team (with a lower seed number from 1 to 16) will be the favorite and will have a prediction above 50%. "
   ]
  },
  {
   "cell_type": "markdown",
   "id": "e4b6b39d",
   "metadata": {
    "papermill": {
     "duration": 0.001257,
     "end_time": "2025-02-18T20:35:17.146818",
     "exception": false,
     "start_time": "2025-02-18T20:35:17.145561",
     "status": "completed"
    },
    "tags": []
   },
   "source": [
    "# Starter Code"
   ]
  },
  {
   "cell_type": "code",
   "execution_count": 1,
   "id": "6819d1b8",
   "metadata": {
    "execution": {
     "iopub.execute_input": "2025-02-18T20:35:17.150745Z",
     "iopub.status.busy": "2025-02-18T20:35:17.150422Z",
     "iopub.status.idle": "2025-02-18T20:35:35.811730Z",
     "shell.execute_reply": "2025-02-18T20:35:35.810725Z"
    },
    "papermill": {
     "duration": 18.664909,
     "end_time": "2025-02-18T20:35:35.813110",
     "exception": false,
     "start_time": "2025-02-18T20:35:17.148201",
     "status": "completed"
    },
    "tags": []
   },
   "outputs": [
    {
     "name": "stdout",
     "output_type": "stream",
     "text": [
      "\n",
      "Advanced Model Validation:\n",
      "Average Prediction: 0.4860\n",
      "Prediction Range: [0.05, 0.95]\n",
      "Estimated Brier Score: 0.00357\n",
      "\n",
      "Submission file successfully generated!\n"
     ]
    }
   ],
   "source": [
    "import pandas as pd\n",
    "import numpy as np\n",
    "import re\n",
    "from sklearn.linear_model import LogisticRegression\n",
    "from sklearn.calibration import CalibratedClassifierCV\n",
    "\n",
    "# ==============================================\n",
    "# 1. Data Loading with Error Handling\n",
    "# ==============================================\n",
    "try:\n",
    "    # Load seed data\n",
    "    m_seed = pd.read_csv('/kaggle/input/march-machine-learning-mania-2025/MNCAATourneySeeds.csv')\n",
    "    w_seed = pd.read_csv('/kaggle/input/march-machine-learning-mania-2025/WNCAATourneySeeds.csv')\n",
    "    \n",
    "    # Load historical tournament results\n",
    "    tourney_results = pd.concat([\n",
    "        pd.read_csv('/kaggle/input/march-machine-learning-mania-2025/MNCAATourneyCompactResults.csv'),\n",
    "        pd.read_csv('/kaggle/input/march-machine-learning-mania-2025/WNCAATourneyCompactResults.csv')\n",
    "    ])\n",
    "    \n",
    "    # Load submission file\n",
    "    submission = pd.read_csv('/kaggle/input/march-machine-learning-mania-2025/SampleSubmissionStage1.csv')\n",
    "\n",
    "except FileNotFoundError as e:\n",
    "    print(f\"Critical file missing: {e}\")\n",
    "    exit()\n",
    "\n",
    "# ==============================================\n",
    "# 2. Robust Seed Processing\n",
    "# ==============================================\n",
    "def parse_seed(seed):\n",
    "    \"\"\"Extract numeric seed value from any format\"\"\"\n",
    "    try:\n",
    "        # Extract digits after first character\n",
    "        digits = re.sub(r\"^\\D+\", \"\", str(seed)).lstrip('0')\n",
    "        return int(digits) if digits else 1\n",
    "    except:\n",
    "        return 16  # Default for invalid/missing seeds\n",
    "\n",
    "# Process seeds\n",
    "seed_df = pd.concat([m_seed, w_seed])\n",
    "seed_df['SeedValue'] = seed_df['Seed'].apply(parse_seed)\n",
    "seed_map = seed_df.set_index(['Season', 'TeamID'])['SeedValue']\n",
    "\n",
    "# ==============================================\n",
    "# 3. Historical Upset Analysis\n",
    "# ==============================================\n",
    "def calculate_upset_features(df):\n",
    "    \"\"\"Calculate historical upset rates by seed difference\"\"\"\n",
    "    games = []\n",
    "    for _, row in df.iterrows():\n",
    "        season = row['Season']\n",
    "        winner = row['WTeamID']\n",
    "        loser = row['LTeamID']\n",
    "        \n",
    "        try:\n",
    "            seed_win = seed_map.at[(season, winner)]\n",
    "            seed_lose = seed_map.at[(season, loser)]\n",
    "        except KeyError:\n",
    "            continue\n",
    "            \n",
    "        diff = seed_lose - seed_win  # Positive = upset possible\n",
    "        games.append({\n",
    "            'SeedDiff': diff,\n",
    "            'Upset': 1 if seed_win > seed_lose else 0\n",
    "        })\n",
    "    \n",
    "    return pd.DataFrame(games)\n",
    "\n",
    "# Calculate historical upset probabilities\n",
    "historical_games = calculate_upset_features(tourney_results)\n",
    "upset_rates = historical_games.groupby('SeedDiff')['Upset'].mean().reset_index()\n",
    "\n",
    "# ==============================================\n",
    "# 4. Submission Data Processing\n",
    "# ==============================================\n",
    "# Split ID column first\n",
    "split_cols = submission['ID'].str.split('_', expand=True).iloc[:, :3]\n",
    "split_cols.columns = ['Season', 'Team1', 'Team2']\n",
    "\n",
    "# Convert dtypes after renaming\n",
    "submission = submission.join(\n",
    "    split_cols.astype({\n",
    "        'Season': 'int16',\n",
    "        'Team1': 'int16',\n",
    "        'Team2': 'int16'\n",
    "    })\n",
    ")\n",
    "\n",
    "# Calculate seed differences\n",
    "def get_seed_diff(row):\n",
    "    try:\n",
    "        return (\n",
    "            seed_map.at[(row['Season'], row['Team2'])] -  # Fixed here\n",
    "            seed_map.at[(row['Season'], row['Team1'])]    # And here\n",
    "        )\n",
    "    except KeyError:\n",
    "        return 0\n",
    "\n",
    "submission['SeedDiff'] = submission.apply(get_seed_diff, axis=1)\n",
    "\n",
    "# ==============================================\n",
    "# 5. Model Training & Prediction\n",
    "# ==============================================\n",
    "# Prepare training data\n",
    "X_train = upset_rates[['SeedDiff']]\n",
    "y_train = upset_rates['Upset']\n",
    "\n",
    "# Train calibrated model\n",
    "model = CalibratedClassifierCV(\n",
    "    LogisticRegression(),\n",
    "    method='isotonic',\n",
    "    cv=5\n",
    ")\n",
    "model.fit(X_train, y_train)\n",
    "\n",
    "# Generate predictions\n",
    "submission['Pred'] = model.predict_proba(submission[['SeedDiff']])[:, 1]\n",
    "submission['Pred'] = submission['Pred'].clip(0.05, 0.95)\n",
    "\n",
    "# ==============================================\n",
    "# 6. Validation & Output\n",
    "# ==============================================\n",
    "print(\"\\nAdvanced Model Validation:\")\n",
    "print(f\"Average Prediction: {submission['Pred'].mean():.4f}\")\n",
    "print(f\"Prediction Range: [{submission['Pred'].min():.2f}, {submission['Pred'].max():.2f}]\")\n",
    "print(f\"Estimated Brier Score: {np.mean((submission['Pred'] - 0.5)**2):.5f}\")\n",
    "\n",
    "submission[['ID', 'Pred']].to_csv('optimized_submission.csv', index=False)\n",
    "print(\"\\nSubmission file successfully generated!\")"
   ]
  }
 ],
 "metadata": {
  "kaggle": {
   "accelerator": "gpu",
   "dataSources": [
    {
     "databundleVersionId": 11018643,
     "sourceId": 91497,
     "sourceType": "competition"
    }
   ],
   "dockerImageVersionId": 30839,
   "isGpuEnabled": true,
   "isInternetEnabled": true,
   "language": "python",
   "sourceType": "notebook"
  },
  "kernelspec": {
   "display_name": "Python 3",
   "language": "python",
   "name": "python3"
  },
  "language_info": {
   "codemirror_mode": {
    "name": "ipython",
    "version": 3
   },
   "file_extension": ".py",
   "mimetype": "text/x-python",
   "name": "python",
   "nbconvert_exporter": "python",
   "pygments_lexer": "ipython3",
   "version": "3.10.12"
  },
  "papermill": {
   "default_parameters": {},
   "duration": 21.927921,
   "end_time": "2025-02-18T20:35:36.431769",
   "environment_variables": {},
   "exception": null,
   "input_path": "__notebook__.ipynb",
   "output_path": "__notebook__.ipynb",
   "parameters": {},
   "start_time": "2025-02-18T20:35:14.503848",
   "version": "2.6.0"
  }
 },
 "nbformat": 4,
 "nbformat_minor": 5
}
