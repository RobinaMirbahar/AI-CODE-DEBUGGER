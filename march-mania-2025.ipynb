{
 "cells": [
  {
   "cell_type": "markdown",
   "id": "71a448a8",
   "metadata": {
    "papermill": {
     "duration": 0.001856,
     "end_time": "2025-02-18T20:24:15.780365",
     "exception": false,
     "start_time": "2025-02-18T20:24:15.778509",
     "status": "completed"
    },
    "tags": []
   },
   "source": [
    "# March Mania 2025 - Starter Notebook"
   ]
  },
  {
   "cell_type": "markdown",
   "id": "957fad02",
   "metadata": {
    "papermill": {
     "duration": 0.001199,
     "end_time": "2025-02-18T20:24:15.783322",
     "exception": false,
     "start_time": "2025-02-18T20:24:15.782123",
     "status": "completed"
    },
    "tags": []
   },
   "source": [
    "## Goal of the competition\n",
    "\n",
    "The goal of this competition is to predict that probability that the smaller ``TeamID`` will win a given matchup. You will predict the probability for every possible matchup between every possible team over the past 4 years. You'll be given a sample submission file where the ```ID``` value indicates the year of the matchup as well as the identities of both teams within the matchup. For example, for an ```ID``` of ```2025_1101_1104``` you would need to predict the outcome of the matchup between ```TeamID 1101``` vs ```TeamID 1104``` during the ```2025``` tournament. Submitting a ```PRED``` of ```0.75``` indicates that you think that the probability of ```TeamID 1101``` winning that particular matchup is equal to ```0.75```.\n"
   ]
  },
  {
   "cell_type": "markdown",
   "id": "ce33ad92",
   "metadata": {
    "papermill": {
     "duration": 0.001176,
     "end_time": "2025-02-18T20:24:15.785836",
     "exception": false,
     "start_time": "2025-02-18T20:24:15.784660",
     "status": "completed"
    },
    "tags": []
   },
   "source": [
    "## Overview of our submission strategy \n",
    "For this starter notebook, we will make a simple submission.\n",
    "\n",
    "We can predict the winner of a match by considering the respective rankings of the opposing teams, only. Since the largest possible difference is 15 (which is #16 minus #1), we use a rudimentary formula that's 0.5 plus 0.03 times the difference in seeds, leading to a range of predictions spanning from 5% up to 95%. The stronger-seeded team (with a lower seed number from 1 to 16) will be the favorite and will have a prediction above 50%. "
   ]
  },
  {
   "cell_type": "markdown",
   "id": "78f52139",
   "metadata": {
    "papermill": {
     "duration": 0.001165,
     "end_time": "2025-02-18T20:24:15.788327",
     "exception": false,
     "start_time": "2025-02-18T20:24:15.787162",
     "status": "completed"
    },
    "tags": []
   },
   "source": [
    "# Starter Code"
   ]
  },
  {
   "cell_type": "code",
   "execution_count": 1,
   "id": "2d35f590",
   "metadata": {
    "execution": {
     "iopub.execute_input": "2025-02-18T20:24:15.792077Z",
     "iopub.status.busy": "2025-02-18T20:24:15.791803Z",
     "iopub.status.idle": "2025-02-18T20:24:18.966533Z",
     "shell.execute_reply": "2025-02-18T20:24:18.965436Z"
    },
    "papermill": {
     "duration": 3.178387,
     "end_time": "2025-02-18T20:24:18.968047",
     "exception": false,
     "start_time": "2025-02-18T20:24:15.789660",
     "status": "completed"
    },
    "tags": []
   },
   "outputs": [
    {
     "name": "stdout",
     "output_type": "stream",
     "text": [
      "Prediction Summary:\n",
      "Mean: 0.5025\n",
      "Range: [0.05, 0.95]\n",
      "\n",
      "Submission file created successfully!\n"
     ]
    }
   ],
   "source": [
    "import pandas as pd\n",
    "import numpy as np\n",
    "import re\n",
    "\n",
    "# ---------------------------\n",
    "# 1. Data Loading\n",
    "# ---------------------------\n",
    "\n",
    "# Load required files\n",
    "m_seed = pd.read_csv('/kaggle/input/march-machine-learning-mania-2025/MNCAATourneySeeds.csv')\n",
    "w_seed = pd.read_csv('/kaggle/input/march-machine-learning-mania-2025/WNCAATourneySeeds.csv')\n",
    "submission = pd.read_csv('/kaggle/input/march-machine-learning-mania-2025/SampleSubmissionStage1.csv')\n",
    "\n",
    "# ---------------------------\n",
    "# 2. Robust Seed Processing\n",
    "# ---------------------------\n",
    "\n",
    "def parse_seed(seed):\n",
    "    \"\"\"Extract numeric value from seed string with regex\"\"\"\n",
    "    try:\n",
    "        digits = re.findall(r'\\d+', str(seed))[0].lstrip('0')\n",
    "        return int(digits) if digits else 1\n",
    "    except:\n",
    "        return 16  # Default for invalid/missing seeds\n",
    "\n",
    "# Combine and process seeds\n",
    "seed_df = pd.concat([m_seed, w_seed], ignore_index=True)\n",
    "seed_df['SeedValue'] = seed_df['Seed'].apply(parse_seed).astype('int16')\n",
    "\n",
    "# ---------------------------\n",
    "# 3. Submission Data Processing\n",
    "# ---------------------------\n",
    "\n",
    "# Split ID into components\n",
    "split_cols = submission['ID'].str.split('_', expand=True).iloc[:, :3]\n",
    "split_cols.columns = ['Season', 'Team1', 'Team2']\n",
    "\n",
    "# Convert dtypes and merge back\n",
    "submission = submission.join(\n",
    "    split_cols.astype({'Season': 'int16', 'Team1': 'int16', 'Team2': 'int16'})\n",
    ")\n",
    "\n",
    "# ---------------------------\n",
    "# 4. Seed Merging\n",
    "# ---------------------------\n",
    "\n",
    "# Create seed mapping\n",
    "seed_map = seed_df.set_index(['Season', 'TeamID'])['SeedValue']\n",
    "\n",
    "# Merge seeds using vectorized operations\n",
    "submission = submission.merge(\n",
    "    seed_df.rename(columns={'TeamID': 'Team1', 'SeedValue': 'Seed1'}),\n",
    "    on=['Season', 'Team1'],\n",
    "    how='left'\n",
    ").merge(\n",
    "    seed_df.rename(columns={'TeamID': 'Team2', 'SeedValue': 'Seed2'}),\n",
    "    on=['Season', 'Team2'],\n",
    "    how='left'\n",
    ")\n",
    "\n",
    "# Fill missing seeds\n",
    "submission['Seed1'] = submission['Seed1'].fillna(16).astype('int16')\n",
    "submission['Seed2'] = submission['Seed2'].fillna(16).astype('int16')\n",
    "\n",
    "# ---------------------------\n",
    "# 5. Prediction Calculation\n",
    "# ---------------------------\n",
    "\n",
    "# Calculate seed difference\n",
    "submission['SeedDiff'] = submission['Seed2'] - submission['Seed1']\n",
    "submission['Pred'] = (0.5 + 0.03 * submission['SeedDiff']).clip(0.05, 0.95)\n",
    "\n",
    "# ---------------------------\n",
    "# 6. Final Output\n",
    "# ---------------------------\n",
    "\n",
    "# Validate results\n",
    "print(\"Prediction Summary:\")\n",
    "print(f\"Mean: {submission['Pred'].mean():.4f}\")\n",
    "print(f\"Range: [{submission['Pred'].min():.2f}, {submission['Pred'].max():.2f}]\")\n",
    "\n",
    "# Save submission\n",
    "submission[['ID', 'Pred']].to_csv('final_submission.csv', index=False)\n",
    "print(\"\\nSubmission file created successfully!\")"
   ]
  }
 ],
 "metadata": {
  "kaggle": {
   "accelerator": "none",
   "dataSources": [
    {
     "databundleVersionId": 11018643,
     "sourceId": 91497,
     "sourceType": "competition"
    }
   ],
   "dockerImageVersionId": 30839,
   "isGpuEnabled": false,
   "isInternetEnabled": true,
   "language": "python",
   "sourceType": "notebook"
  },
  "kernelspec": {
   "display_name": "Python 3",
   "language": "python",
   "name": "python3"
  },
  "language_info": {
   "codemirror_mode": {
    "name": "ipython",
    "version": 3
   },
   "file_extension": ".py",
   "mimetype": "text/x-python",
   "name": "python",
   "nbconvert_exporter": "python",
   "pygments_lexer": "ipython3",
   "version": "3.10.12"
  },
  "papermill": {
   "default_parameters": {},
   "duration": 6.269966,
   "end_time": "2025-02-18T20:24:19.488886",
   "environment_variables": {},
   "exception": null,
   "input_path": "__notebook__.ipynb",
   "output_path": "__notebook__.ipynb",
   "parameters": {},
   "start_time": "2025-02-18T20:24:13.218920",
   "version": "2.6.0"
  }
 },
 "nbformat": 4,
 "nbformat_minor": 5
}
