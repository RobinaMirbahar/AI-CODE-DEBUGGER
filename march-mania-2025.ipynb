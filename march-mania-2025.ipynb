{
 "cells": [
  {
   "cell_type": "markdown",
   "id": "786c3edb",
   "metadata": {
    "papermill": {
     "duration": 0.003955,
     "end_time": "2025-02-18T16:15:17.340606",
     "exception": false,
     "start_time": "2025-02-18T16:15:17.336651",
     "status": "completed"
    },
    "tags": []
   },
   "source": [
    "# March Mania 2025 - Starter Notebook"
   ]
  },
  {
   "cell_type": "markdown",
   "id": "03261ddb",
   "metadata": {
    "papermill": {
     "duration": 0.002963,
     "end_time": "2025-02-18T16:15:17.346956",
     "exception": false,
     "start_time": "2025-02-18T16:15:17.343993",
     "status": "completed"
    },
    "tags": []
   },
   "source": [
    "## Goal of the competition\n",
    "\n",
    "The goal of this competition is to predict that probability that the smaller ``TeamID`` will win a given matchup. You will predict the probability for every possible matchup between every possible team over the past 4 years. You'll be given a sample submission file where the ```ID``` value indicates the year of the matchup as well as the identities of both teams within the matchup. For example, for an ```ID``` of ```2025_1101_1104``` you would need to predict the outcome of the matchup between ```TeamID 1101``` vs ```TeamID 1104``` during the ```2025``` tournament. Submitting a ```PRED``` of ```0.75``` indicates that you think that the probability of ```TeamID 1101``` winning that particular matchup is equal to ```0.75```.\n"
   ]
  },
  {
   "cell_type": "markdown",
   "id": "5a460f41",
   "metadata": {
    "papermill": {
     "duration": 0.002888,
     "end_time": "2025-02-18T16:15:17.352953",
     "exception": false,
     "start_time": "2025-02-18T16:15:17.350065",
     "status": "completed"
    },
    "tags": []
   },
   "source": [
    "## Overview of our submission strategy \n",
    "For this starter notebook, we will make a simple submission.\n",
    "\n",
    "We can predict the winner of a match by considering the respective rankings of the opposing teams, only. Since the largest possible difference is 15 (which is #16 minus #1), we use a rudimentary formula that's 0.5 plus 0.03 times the difference in seeds, leading to a range of predictions spanning from 5% up to 95%. The stronger-seeded team (with a lower seed number from 1 to 16) will be the favorite and will have a prediction above 50%. "
   ]
  },
  {
   "cell_type": "markdown",
   "id": "3a35326f",
   "metadata": {
    "papermill": {
     "duration": 0.00292,
     "end_time": "2025-02-18T16:15:17.358934",
     "exception": false,
     "start_time": "2025-02-18T16:15:17.356014",
     "status": "completed"
    },
    "tags": []
   },
   "source": [
    "# Starter Code"
   ]
  },
  {
   "cell_type": "markdown",
   "id": "e78c615d",
   "metadata": {
    "papermill": {
     "duration": 0.002922,
     "end_time": "2025-02-18T16:15:17.364974",
     "exception": false,
     "start_time": "2025-02-18T16:15:17.362052",
     "status": "completed"
    },
    "tags": []
   },
   "source": [
    "## Step 1: Import Python packages"
   ]
  },
  {
   "cell_type": "code",
   "execution_count": 1,
   "id": "5bca2c6b",
   "metadata": {
    "_cell_guid": "b1076dfc-b9ad-4769-8c92-a6c4dae69d19",
    "_kg_hide-input": false,
    "_uuid": "8f2839f25d086af736a60e9eeb907d3b93b6e0e5",
    "execution": {
     "iopub.execute_input": "2025-02-18T16:15:17.372138Z",
     "iopub.status.busy": "2025-02-18T16:15:17.371827Z",
     "iopub.status.idle": "2025-02-18T16:15:19.248705Z",
     "shell.execute_reply": "2025-02-18T16:15:19.248009Z"
    },
    "papermill": {
     "duration": 1.882303,
     "end_time": "2025-02-18T16:15:19.250297",
     "exception": false,
     "start_time": "2025-02-18T16:15:17.367994",
     "status": "completed"
    },
    "tags": []
   },
   "outputs": [],
   "source": [
    "import numpy as np\n",
    "import pandas as pd\n",
    "from sklearn.metrics import brier_score_loss"
   ]
  },
  {
   "cell_type": "markdown",
   "id": "df4636d2",
   "metadata": {
    "papermill": {
     "duration": 0.003389,
     "end_time": "2025-02-18T16:15:19.257617",
     "exception": false,
     "start_time": "2025-02-18T16:15:19.254228",
     "status": "completed"
    },
    "tags": []
   },
   "source": [
    "## Step 2: Explore the data"
   ]
  },
  {
   "cell_type": "code",
   "execution_count": 2,
   "id": "b5349234",
   "metadata": {
    "execution": {
     "iopub.execute_input": "2025-02-18T16:15:19.265577Z",
     "iopub.status.busy": "2025-02-18T16:15:19.265177Z",
     "iopub.status.idle": "2025-02-18T16:15:19.702779Z",
     "shell.execute_reply": "2025-02-18T16:15:19.701807Z"
    },
    "papermill": {
     "duration": 0.443378,
     "end_time": "2025-02-18T16:15:19.704422",
     "exception": false,
     "start_time": "2025-02-18T16:15:19.261044",
     "status": "completed"
    },
    "tags": []
   },
   "outputs": [],
   "source": [
    "# Load data\n",
    "w_seed = pd.read_csv('/kaggle/input/march-machine-learning-mania-2025/WNCAATourneySeeds.csv')\n",
    "m_seed = pd.read_csv('/kaggle/input/march-machine-learning-mania-2025/MNCAATourneySeeds.csv')\n",
    "seed_df = pd.concat([m_seed, w_seed], axis=0).drop_duplicates(subset=['Season', 'TeamID'])\n",
    "submission_df = pd.read_csv('/kaggle/input/march-machine-learning-mania-2025/SampleSubmissionStage1.csv')\n"
   ]
  },
  {
   "cell_type": "markdown",
   "id": "ef52ceeb",
   "metadata": {
    "papermill": {
     "duration": 0.00302,
     "end_time": "2025-02-18T16:15:19.711107",
     "exception": false,
     "start_time": "2025-02-18T16:15:19.708087",
     "status": "completed"
    },
    "tags": []
   },
   "source": [
    "Team rankings are present in the files WNCAATourneySeeds.csv and MNCAATourneySeeds.csv. \n",
    "- The \"Season\" column indicates the year\n",
    "- The \"Seed\" column indicates the ranking for a given conference (W01 = ranking 1 in conference W)\n",
    "- The \"TeamID\" column contains a unique identifier for every team"
   ]
  },
  {
   "cell_type": "code",
   "execution_count": 3,
   "id": "59c7ddf7",
   "metadata": {
    "execution": {
     "iopub.execute_input": "2025-02-18T16:15:19.719655Z",
     "iopub.status.busy": "2025-02-18T16:15:19.719392Z",
     "iopub.status.idle": "2025-02-18T16:15:19.732769Z",
     "shell.execute_reply": "2025-02-18T16:15:19.731798Z"
    },
    "papermill": {
     "duration": 0.018608,
     "end_time": "2025-02-18T16:15:19.734165",
     "exception": false,
     "start_time": "2025-02-18T16:15:19.715557",
     "status": "completed"
    },
    "tags": []
   },
   "outputs": [
    {
     "name": "stdout",
     "output_type": "stream",
     "text": [
      "   Season Seed  TeamID\n",
      "0    1985  W01    1207\n",
      "1    1985  W02    1210\n",
      "2    1985  W03    1228\n",
      "3    1985  W04    1260\n",
      "4    1985  W05    1374\n"
     ]
    }
   ],
   "source": [
    "# Display first few rows to check structure\n",
    "print(seed_df.head())\n",
    "\n"
   ]
  },
  {
   "cell_type": "markdown",
   "id": "d7d39483",
   "metadata": {
    "papermill": {
     "duration": 0.003056,
     "end_time": "2025-02-18T16:15:19.740709",
     "exception": false,
     "start_time": "2025-02-18T16:15:19.737653",
     "status": "completed"
    },
    "tags": []
   },
   "source": [
    "The sample_submission.csv file contains an \"ID\" column with the format year_teamID1_teamID2."
   ]
  },
  {
   "cell_type": "code",
   "execution_count": 4,
   "id": "ac3aa993",
   "metadata": {
    "execution": {
     "iopub.execute_input": "2025-02-18T16:15:19.748137Z",
     "iopub.status.busy": "2025-02-18T16:15:19.747809Z",
     "iopub.status.idle": "2025-02-18T16:15:19.753751Z",
     "shell.execute_reply": "2025-02-18T16:15:19.753039Z"
    },
    "papermill": {
     "duration": 0.011095,
     "end_time": "2025-02-18T16:15:19.755054",
     "exception": false,
     "start_time": "2025-02-18T16:15:19.743959",
     "status": "completed"
    },
    "tags": []
   },
   "outputs": [
    {
     "name": "stdout",
     "output_type": "stream",
     "text": [
      "               ID  Pred\n",
      "0  2021_1101_1102   0.5\n",
      "1  2021_1101_1103   0.5\n",
      "2  2021_1101_1104   0.5\n",
      "3  2021_1101_1105   0.5\n",
      "4  2021_1101_1106   0.5\n"
     ]
    }
   ],
   "source": [
    "print(submission_df.head())"
   ]
  },
  {
   "cell_type": "markdown",
   "id": "44e565c3",
   "metadata": {
    "papermill": {
     "duration": 0.003068,
     "end_time": "2025-02-18T16:15:19.761542",
     "exception": false,
     "start_time": "2025-02-18T16:15:19.758474",
     "status": "completed"
    },
    "tags": []
   },
   "source": [
    "## Step 3: Extract game info and team rankings"
   ]
  },
  {
   "cell_type": "code",
   "execution_count": 5,
   "id": "f6409267",
   "metadata": {
    "execution": {
     "iopub.execute_input": "2025-02-18T16:15:19.768768Z",
     "iopub.status.busy": "2025-02-18T16:15:19.768556Z",
     "iopub.status.idle": "2025-02-18T16:15:20.724541Z",
     "shell.execute_reply": "2025-02-18T16:15:20.723853Z"
    },
    "papermill": {
     "duration": 0.961217,
     "end_time": "2025-02-18T16:15:20.726036",
     "exception": false,
     "start_time": "2025-02-18T16:15:19.764819",
     "status": "completed"
    },
    "tags": []
   },
   "outputs": [],
   "source": [
    "# Extract game info\n",
    "def extract_game_info(id_str):\n",
    "    parts = id_str.split('_')\n",
    "    return int(parts[0]), int(parts[1]), int(parts[2])\n",
    "\n",
    "def extract_seed_value(seed_str):\n",
    "    try:\n",
    "        return int(seed_str[1:])\n",
    "    except ValueError:\n",
    "        return 16\n",
    "\n",
    "# Apply transformations\n",
    "submission_df[['Season', 'TeamID1', 'TeamID2']] = submission_df['ID'].apply(extract_game_info).tolist()\n",
    "seed_df['SeedValue'] = seed_df['Seed'].apply(extract_seed_value)\n"
   ]
  },
  {
   "cell_type": "markdown",
   "id": "61de519e",
   "metadata": {
    "papermill": {
     "duration": 0.003806,
     "end_time": "2025-02-18T16:15:20.734340",
     "exception": false,
     "start_time": "2025-02-18T16:15:20.730534",
     "status": "completed"
    },
    "tags": []
   },
   "source": [
    "## Step 4: Make your predictions"
   ]
  },
  {
   "cell_type": "code",
   "execution_count": 6,
   "id": "0a123543",
   "metadata": {
    "execution": {
     "iopub.execute_input": "2025-02-18T16:15:20.743220Z",
     "iopub.status.busy": "2025-02-18T16:15:20.742974Z",
     "iopub.status.idle": "2025-02-18T16:15:21.092705Z",
     "shell.execute_reply": "2025-02-18T16:15:21.091852Z"
    },
    "papermill": {
     "duration": 0.355922,
     "end_time": "2025-02-18T16:15:21.094310",
     "exception": false,
     "start_time": "2025-02-18T16:15:20.738388",
     "status": "completed"
    },
    "tags": []
   },
   "outputs": [],
   "source": [
    "# Merge seed information\n",
    "submission_df = submission_df.merge(seed_df[['Season', 'TeamID', 'SeedValue']], \n",
    "                                    left_on=['Season', 'TeamID1'], right_on=['Season', 'TeamID'], how='left')\n",
    "submission_df = submission_df.rename(columns={'SeedValue': 'SeedValue1'}).drop(columns=['TeamID'])\n",
    "\n",
    "submission_df = submission_df.merge(seed_df[['Season', 'TeamID', 'SeedValue']], \n",
    "                                    left_on=['Season', 'TeamID2'], right_on=['Season', 'TeamID'], how='left')\n",
    "submission_df = submission_df.rename(columns={'SeedValue': 'SeedValue2'}).drop(columns=['TeamID'])\n",
    "\n",
    "# Ensure no duplicate columns and fill missing values\n",
    "submission_df = submission_df.drop_duplicates()\n",
    "submission_df[['SeedValue1', 'SeedValue2']] = submission_df[['SeedValue1', 'SeedValue2']].fillna(16)"
   ]
  },
  {
   "cell_type": "code",
   "execution_count": 7,
   "id": "086c5e12",
   "metadata": {
    "execution": {
     "iopub.execute_input": "2025-02-18T16:15:21.102441Z",
     "iopub.status.busy": "2025-02-18T16:15:21.102205Z",
     "iopub.status.idle": "2025-02-18T16:15:21.123694Z",
     "shell.execute_reply": "2025-02-18T16:15:21.122772Z"
    },
    "papermill": {
     "duration": 0.026638,
     "end_time": "2025-02-18T16:15:21.125044",
     "exception": false,
     "start_time": "2025-02-18T16:15:21.098406",
     "status": "completed"
    },
    "tags": []
   },
   "outputs": [
    {
     "name": "stdout",
     "output_type": "stream",
     "text": [
      "count    507108.0\n",
      "mean          0.5\n",
      "std           0.0\n",
      "min           0.5\n",
      "25%           0.5\n",
      "50%           0.5\n",
      "75%           0.5\n",
      "max           0.5\n",
      "Name: Pred, dtype: float64\n"
     ]
    }
   ],
   "source": [
    "stats = submission_df.iloc[:, 1].describe()\n",
    "print(stats)"
   ]
  },
  {
   "cell_type": "markdown",
   "id": "e0e62915",
   "metadata": {
    "papermill": {
     "duration": 0.003257,
     "end_time": "2025-02-18T16:15:21.131797",
     "exception": false,
     "start_time": "2025-02-18T16:15:21.128540",
     "status": "completed"
    },
    "tags": []
   },
   "source": [
    "## Step 5: Understand the metric"
   ]
  },
  {
   "cell_type": "markdown",
   "id": "6ee5980e",
   "metadata": {
    "papermill": {
     "duration": 0.003188,
     "end_time": "2025-02-18T16:15:21.138407",
     "exception": false,
     "start_time": "2025-02-18T16:15:21.135219",
     "status": "completed"
    },
    "tags": []
   },
   "source": [
    "We don't know the outcomes of the games, so instead let's assume that the team that was listed first won every single matchup. This is what we'll call our \"true value\". Next, we'll calculate the average squared difference between the probabilities in our submission and that ground truth value. We'll call this the \"Brier score\". https://en.wikipedia.org/wiki/Brier_score"
   ]
  },
  {
   "cell_type": "code",
   "execution_count": 8,
   "id": "2e3189fc",
   "metadata": {
    "execution": {
     "iopub.execute_input": "2025-02-18T16:15:21.145968Z",
     "iopub.status.busy": "2025-02-18T16:15:21.145642Z",
     "iopub.status.idle": "2025-02-18T16:15:21.168112Z",
     "shell.execute_reply": "2025-02-18T16:15:21.167350Z"
    },
    "papermill": {
     "duration": 0.027843,
     "end_time": "2025-02-18T16:15:21.169517",
     "exception": false,
     "start_time": "2025-02-18T16:15:21.141674",
     "status": "completed"
    },
    "tags": []
   },
   "outputs": [],
   "source": [
    "# Calculate seed difference and generate reversed predictions\n",
    "submission_df['SeedDiff'] = submission_df['SeedValue1'].astype(int) - submission_df['SeedValue2'].astype(int)\n",
    "submission_df['Pred'] = np.clip(1.0 - (0.5 + (0.03 * submission_df['SeedDiff'])), 0.05, 0.95)  # Reverse the predictions"
   ]
  },
  {
   "cell_type": "markdown",
   "id": "48473905",
   "metadata": {
    "papermill": {
     "duration": 0.003473,
     "end_time": "2025-02-18T16:15:21.176808",
     "exception": false,
     "start_time": "2025-02-18T16:15:21.173335",
     "status": "completed"
    },
    "tags": []
   },
   "source": [
    "## Step 6: Make your submission"
   ]
  },
  {
   "cell_type": "code",
   "execution_count": 9,
   "id": "31cccd30",
   "metadata": {
    "execution": {
     "iopub.execute_input": "2025-02-18T16:15:21.184899Z",
     "iopub.status.busy": "2025-02-18T16:15:21.184589Z",
     "iopub.status.idle": "2025-02-18T16:15:21.764396Z",
     "shell.execute_reply": "2025-02-18T16:15:21.763354Z"
    },
    "papermill": {
     "duration": 0.585423,
     "end_time": "2025-02-18T16:15:21.765729",
     "exception": false,
     "start_time": "2025-02-18T16:15:21.180306",
     "status": "completed"
    },
    "tags": []
   },
   "outputs": [
    {
     "name": "stdout",
     "output_type": "stream",
     "text": [
      "count    507108.000000\n",
      "mean          0.502152\n",
      "std           0.147387\n",
      "min           0.050000\n",
      "25%           0.500000\n",
      "50%           0.500000\n",
      "75%           0.500000\n",
      "max           0.950000\n",
      "Name: Pred, dtype: float64\n"
     ]
    }
   ],
   "source": [
    "# Finalize submission\n",
    "submission_df = submission_df[['ID', 'Pred']]\n",
    "submission_df.to_csv('/kaggle/working/submission.csv', index=False)\n",
    "\n",
    "# Display summary stats\n",
    "print(submission_df['Pred'].describe())\n"
   ]
  }
 ],
 "metadata": {
  "kaggle": {
   "accelerator": "none",
   "dataSources": [
    {
     "databundleVersionId": 11018643,
     "sourceId": 91497,
     "sourceType": "competition"
    }
   ],
   "dockerImageVersionId": 30839,
   "isGpuEnabled": false,
   "isInternetEnabled": true,
   "language": "python",
   "sourceType": "notebook"
  },
  "kernelspec": {
   "display_name": "Python 3",
   "language": "python",
   "name": "python3"
  },
  "language_info": {
   "codemirror_mode": {
    "name": "ipython",
    "version": 3
   },
   "file_extension": ".py",
   "mimetype": "text/x-python",
   "name": "python",
   "nbconvert_exporter": "python",
   "pygments_lexer": "ipython3",
   "version": "3.10.12"
  },
  "papermill": {
   "default_parameters": {},
   "duration": 7.562029,
   "end_time": "2025-02-18T16:15:22.286413",
   "environment_variables": {},
   "exception": null,
   "input_path": "__notebook__.ipynb",
   "output_path": "__notebook__.ipynb",
   "parameters": {},
   "start_time": "2025-02-18T16:15:14.724384",
   "version": "2.6.0"
  }
 },
 "nbformat": 4,
 "nbformat_minor": 5
}
