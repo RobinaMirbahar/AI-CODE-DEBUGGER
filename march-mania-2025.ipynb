{
 "cells": [
  {
   "cell_type": "markdown",
   "id": "6b25a731",
   "metadata": {
    "papermill": {
     "duration": 0.004712,
     "end_time": "2025-02-18T17:36:35.891782",
     "exception": false,
     "start_time": "2025-02-18T17:36:35.887070",
     "status": "completed"
    },
    "tags": []
   },
   "source": [
    "# March Mania 2025 - Starter Notebook"
   ]
  },
  {
   "cell_type": "markdown",
   "id": "9301ee82",
   "metadata": {
    "papermill": {
     "duration": 0.003584,
     "end_time": "2025-02-18T17:36:35.899508",
     "exception": false,
     "start_time": "2025-02-18T17:36:35.895924",
     "status": "completed"
    },
    "tags": []
   },
   "source": [
    "## Goal of the competition\n",
    "\n",
    "The goal of this competition is to predict that probability that the smaller ``TeamID`` will win a given matchup. You will predict the probability for every possible matchup between every possible team over the past 4 years. You'll be given a sample submission file where the ```ID``` value indicates the year of the matchup as well as the identities of both teams within the matchup. For example, for an ```ID``` of ```2025_1101_1104``` you would need to predict the outcome of the matchup between ```TeamID 1101``` vs ```TeamID 1104``` during the ```2025``` tournament. Submitting a ```PRED``` of ```0.75``` indicates that you think that the probability of ```TeamID 1101``` winning that particular matchup is equal to ```0.75```.\n"
   ]
  },
  {
   "cell_type": "markdown",
   "id": "44fab09b",
   "metadata": {
    "papermill": {
     "duration": 0.003631,
     "end_time": "2025-02-18T17:36:35.907021",
     "exception": false,
     "start_time": "2025-02-18T17:36:35.903390",
     "status": "completed"
    },
    "tags": []
   },
   "source": [
    "## Overview of our submission strategy \n",
    "For this starter notebook, we will make a simple submission.\n",
    "\n",
    "We can predict the winner of a match by considering the respective rankings of the opposing teams, only. Since the largest possible difference is 15 (which is #16 minus #1), we use a rudimentary formula that's 0.5 plus 0.03 times the difference in seeds, leading to a range of predictions spanning from 5% up to 95%. The stronger-seeded team (with a lower seed number from 1 to 16) will be the favorite and will have a prediction above 50%. "
   ]
  },
  {
   "cell_type": "markdown",
   "id": "5e7182ec",
   "metadata": {
    "papermill": {
     "duration": 0.003587,
     "end_time": "2025-02-18T17:36:35.914419",
     "exception": false,
     "start_time": "2025-02-18T17:36:35.910832",
     "status": "completed"
    },
    "tags": []
   },
   "source": [
    "# Starter Code"
   ]
  },
  {
   "cell_type": "markdown",
   "id": "bc99e43d",
   "metadata": {
    "papermill": {
     "duration": 0.003563,
     "end_time": "2025-02-18T17:36:35.921824",
     "exception": false,
     "start_time": "2025-02-18T17:36:35.918261",
     "status": "completed"
    },
    "tags": []
   },
   "source": [
    "## Step 1: Import Python packages"
   ]
  },
  {
   "cell_type": "code",
   "execution_count": 1,
   "id": "9d79e593",
   "metadata": {
    "_cell_guid": "b1076dfc-b9ad-4769-8c92-a6c4dae69d19",
    "_kg_hide-input": false,
    "_uuid": "8f2839f25d086af736a60e9eeb907d3b93b6e0e5",
    "execution": {
     "iopub.execute_input": "2025-02-18T17:36:35.931118Z",
     "iopub.status.busy": "2025-02-18T17:36:35.930666Z",
     "iopub.status.idle": "2025-02-18T17:36:38.211982Z",
     "shell.execute_reply": "2025-02-18T17:36:38.211186Z"
    },
    "papermill": {
     "duration": 2.288288,
     "end_time": "2025-02-18T17:36:38.213964",
     "exception": false,
     "start_time": "2025-02-18T17:36:35.925676",
     "status": "completed"
    },
    "tags": []
   },
   "outputs": [],
   "source": [
    "import pandas as pd\n",
    "import numpy as np\n",
    "from sklearn.linear_model import LogisticRegression\n",
    "from sklearn.model_selection import train_test_split\n",
    "from sklearn.metrics import brier_score_loss\n",
    "from sklearn.preprocessing import StandardScaler\n"
   ]
  },
  {
   "cell_type": "markdown",
   "id": "2f402279",
   "metadata": {
    "papermill": {
     "duration": 0.003746,
     "end_time": "2025-02-18T17:36:38.222242",
     "exception": false,
     "start_time": "2025-02-18T17:36:38.218496",
     "status": "completed"
    },
    "tags": []
   },
   "source": [
    "## Step 2: Explore the data"
   ]
  },
  {
   "cell_type": "code",
   "execution_count": 2,
   "id": "3a086bfb",
   "metadata": {
    "execution": {
     "iopub.execute_input": "2025-02-18T17:36:38.234053Z",
     "iopub.status.busy": "2025-02-18T17:36:38.233505Z",
     "iopub.status.idle": "2025-02-18T17:36:38.738549Z",
     "shell.execute_reply": "2025-02-18T17:36:38.737369Z"
    },
    "papermill": {
     "duration": 0.513834,
     "end_time": "2025-02-18T17:36:38.740152",
     "exception": false,
     "start_time": "2025-02-18T17:36:38.226318",
     "status": "completed"
    },
    "tags": []
   },
   "outputs": [
    {
     "name": "stdout",
     "output_type": "stream",
     "text": [
      "   Season Seed  TeamID\n",
      "0    1985  W01    1207\n",
      "1    1985  W02    1210\n",
      "2    1985  W03    1228\n",
      "3    1985  W04    1260\n",
      "4    1985  W05    1374\n",
      "               ID  Pred\n",
      "0  2021_1101_1102   0.5\n",
      "1  2021_1101_1103   0.5\n",
      "2  2021_1101_1104   0.5\n",
      "3  2021_1101_1105   0.5\n",
      "4  2021_1101_1106   0.5\n"
     ]
    }
   ],
   "source": [
    "# Load data\n",
    "w_seed = pd.read_csv('/kaggle/input/march-machine-learning-mania-2025/WNCAATourneySeeds.csv')\n",
    "m_seed = pd.read_csv('/kaggle/input/march-machine-learning-mania-2025/MNCAATourneySeeds.csv')\n",
    "seed_df = pd.concat([m_seed, w_seed], axis=0)\n",
    "\n",
    "submission_df = pd.read_csv('/kaggle/input/march-machine-learning-mania-2025/SampleSubmissionStage1.csv')\n",
    "\n",
    "# Display first few rows to check structure\n",
    "print(seed_df.head())\n",
    "print(submission_df.head())\n"
   ]
  },
  {
   "cell_type": "markdown",
   "id": "ee33e019",
   "metadata": {
    "papermill": {
     "duration": 0.003698,
     "end_time": "2025-02-18T17:36:38.748162",
     "exception": false,
     "start_time": "2025-02-18T17:36:38.744464",
     "status": "completed"
    },
    "tags": []
   },
   "source": [
    "Team rankings are present in the files WNCAATourneySeeds.csv and MNCAATourneySeeds.csv. \n",
    "- The \"Season\" column indicates the year\n",
    "- The \"Seed\" column indicates the ranking for a given conference (W01 = ranking 1 in conference W)\n",
    "- The \"TeamID\" column contains a unique identifier for every team"
   ]
  },
  {
   "cell_type": "code",
   "execution_count": 3,
   "id": "c5598636",
   "metadata": {
    "execution": {
     "iopub.execute_input": "2025-02-18T17:36:38.757153Z",
     "iopub.status.busy": "2025-02-18T17:36:38.756821Z",
     "iopub.status.idle": "2025-02-18T17:36:38.765035Z",
     "shell.execute_reply": "2025-02-18T17:36:38.764126Z"
    },
    "papermill": {
     "duration": 0.014463,
     "end_time": "2025-02-18T17:36:38.766571",
     "exception": false,
     "start_time": "2025-02-18T17:36:38.752108",
     "status": "completed"
    },
    "tags": []
   },
   "outputs": [
    {
     "name": "stdout",
     "output_type": "stream",
     "text": [
      "   Season Seed  TeamID\n",
      "0    1985  W01    1207\n",
      "1    1985  W02    1210\n",
      "2    1985  W03    1228\n",
      "3    1985  W04    1260\n",
      "4    1985  W05    1374\n",
      "               ID  Pred\n",
      "0  2021_1101_1102   0.5\n",
      "1  2021_1101_1103   0.5\n",
      "2  2021_1101_1104   0.5\n",
      "3  2021_1101_1105   0.5\n",
      "4  2021_1101_1106   0.5\n"
     ]
    }
   ],
   "source": [
    "# Display first few rows to check structure\n",
    "print(seed_df.head())\n",
    "print(submission_df.head())\n"
   ]
  },
  {
   "cell_type": "markdown",
   "id": "699b2b9f",
   "metadata": {
    "papermill": {
     "duration": 0.003807,
     "end_time": "2025-02-18T17:36:38.774476",
     "exception": false,
     "start_time": "2025-02-18T17:36:38.770669",
     "status": "completed"
    },
    "tags": []
   },
   "source": [
    "The sample_submission.csv file contains an \"ID\" column with the format year_teamID1_teamID2."
   ]
  },
  {
   "cell_type": "code",
   "execution_count": 4,
   "id": "1dfa650a",
   "metadata": {
    "execution": {
     "iopub.execute_input": "2025-02-18T17:36:38.783538Z",
     "iopub.status.busy": "2025-02-18T17:36:38.783190Z",
     "iopub.status.idle": "2025-02-18T17:36:38.789810Z",
     "shell.execute_reply": "2025-02-18T17:36:38.788910Z"
    },
    "papermill": {
     "duration": 0.012637,
     "end_time": "2025-02-18T17:36:38.791124",
     "exception": false,
     "start_time": "2025-02-18T17:36:38.778487",
     "status": "completed"
    },
    "tags": []
   },
   "outputs": [
    {
     "name": "stdout",
     "output_type": "stream",
     "text": [
      "               ID  Pred\n",
      "0  2021_1101_1102   0.5\n",
      "1  2021_1101_1103   0.5\n",
      "2  2021_1101_1104   0.5\n",
      "3  2021_1101_1105   0.5\n",
      "4  2021_1101_1106   0.5\n"
     ]
    }
   ],
   "source": [
    "print(submission_df.head())"
   ]
  },
  {
   "cell_type": "markdown",
   "id": "b5a2e34b",
   "metadata": {
    "papermill": {
     "duration": 0.003768,
     "end_time": "2025-02-18T17:36:38.799153",
     "exception": false,
     "start_time": "2025-02-18T17:36:38.795385",
     "status": "completed"
    },
    "tags": []
   },
   "source": [
    "## Step 3: Extract game info and team rankings"
   ]
  },
  {
   "cell_type": "code",
   "execution_count": 5,
   "id": "5d9e1728",
   "metadata": {
    "execution": {
     "iopub.execute_input": "2025-02-18T17:36:38.808354Z",
     "iopub.status.busy": "2025-02-18T17:36:38.808018Z",
     "iopub.status.idle": "2025-02-18T17:36:40.090634Z",
     "shell.execute_reply": "2025-02-18T17:36:40.089772Z"
    },
    "papermill": {
     "duration": 1.289223,
     "end_time": "2025-02-18T17:36:40.092447",
     "exception": false,
     "start_time": "2025-02-18T17:36:38.803224",
     "status": "completed"
    },
    "tags": []
   },
   "outputs": [],
   "source": [
    "def extract_game_info(id_str):\n",
    "    year, tid1, tid2 = map(int, id_str.split('_'))\n",
    "    return year, min(tid1, tid2), max(tid1, tid2)  # Enforce TeamID1 < TeamID2\n",
    "\n",
    "def extract_seed_value(seed_str):\n",
    "    try:\n",
    "        return int(str(seed_str).strip()[1:])  # Robust string handling\n",
    "    except:\n",
    "        return 16  # Catch-all for invalid formats\n",
    "\n",
    "# Preprocess seeds with defensive programming\n",
    "seed_df['SeedValue'] = seed_df['Seed'].fillna('Z16').apply(extract_seed_value)\n",
    "\n",
    "# Transform submission data\n",
    "submission_df[['Season', 'TeamID1', 'TeamID2']] = submission_df['ID'].apply(extract_game_info).tolist()\n"
   ]
  },
  {
   "cell_type": "markdown",
   "id": "b1281995",
   "metadata": {
    "papermill": {
     "duration": 0.003953,
     "end_time": "2025-02-18T17:36:40.100880",
     "exception": false,
     "start_time": "2025-02-18T17:36:40.096927",
     "status": "completed"
    },
    "tags": []
   },
   "source": [
    "## Step 4: Make your predictions"
   ]
  },
  {
   "cell_type": "code",
   "execution_count": 6,
   "id": "df761b16",
   "metadata": {
    "execution": {
     "iopub.execute_input": "2025-02-18T17:36:40.110190Z",
     "iopub.status.busy": "2025-02-18T17:36:40.109878Z",
     "iopub.status.idle": "2025-02-18T17:36:42.081024Z",
     "shell.execute_reply": "2025-02-18T17:36:42.079871Z"
    },
    "papermill": {
     "duration": 1.97774,
     "end_time": "2025-02-18T17:36:42.082609",
     "exception": false,
     "start_time": "2025-02-18T17:36:40.104869",
     "status": "completed"
    },
    "tags": []
   },
   "outputs": [
    {
     "name": "stdout",
     "output_type": "stream",
     "text": [
      "Brier Score: 1.38531568138281e-07\n"
     ]
    }
   ],
   "source": [
    "# Merge seed data with the submission data\n",
    "seed_map = seed_df.set_index(['Season', 'TeamID'])['SeedValue']\n",
    "submission_df['SeedValue1'] = submission_df.set_index(['Season', 'TeamID1']).index.map(seed_map).fillna(16)\n",
    "submission_df['SeedValue2'] = submission_df.set_index(['Season', 'TeamID2']).index.map(seed_map).fillna(16)\n",
    "\n",
    "# Create the seed difference feature\n",
    "submission_df['SeedDifference'] = submission_df['SeedValue2'] - submission_df['SeedValue1']\n",
    "\n",
    "# Simulate ground truth (label) where the team with the smaller seed number wins\n",
    "submission_df['Label'] = (submission_df['SeedValue1'] < submission_df['SeedValue2']).astype(int)\n",
    "\n",
    "# Define features and labels for training\n",
    "X = submission_df[['SeedDifference']]\n",
    "y = submission_df['Label']\n",
    "\n",
    "# Split the data into training and test sets\n",
    "X_train, X_test, y_train, y_test = train_test_split(X, y, test_size=0.2, random_state=42)\n",
    "\n",
    "# Initialize the Logistic Regression model\n",
    "model = LogisticRegression()\n",
    "\n",
    "# Train the model\n",
    "model.fit(X_train, y_train)\n",
    "\n",
    "# Predict probabilities for the test set\n",
    "y_pred_prob = model.predict_proba(X_test)[:, 1]  # Probability for the positive class (TeamID1 wins)\n",
    "\n",
    "# Evaluate the model using the Brier score\n",
    "brier_score = brier_score_loss(y_test, y_pred_prob)\n",
    "print(f'Brier Score: {brier_score}')\n"
   ]
  },
  {
   "cell_type": "code",
   "execution_count": 7,
   "id": "24ca96e5",
   "metadata": {
    "execution": {
     "iopub.execute_input": "2025-02-18T17:36:42.092718Z",
     "iopub.status.busy": "2025-02-18T17:36:42.092365Z",
     "iopub.status.idle": "2025-02-18T17:36:42.134571Z",
     "shell.execute_reply": "2025-02-18T17:36:42.133260Z"
    },
    "papermill": {
     "duration": 0.049334,
     "end_time": "2025-02-18T17:36:42.136434",
     "exception": false,
     "start_time": "2025-02-18T17:36:42.087100",
     "status": "completed"
    },
    "tags": []
   },
   "outputs": [
    {
     "name": "stdout",
     "output_type": "stream",
     "text": [
      "count    507108.000000\n",
      "mean          0.502152\n",
      "std           0.147387\n",
      "min           0.050000\n",
      "25%           0.500000\n",
      "50%           0.500000\n",
      "75%           0.500000\n",
      "max           0.950000\n",
      "Name: Pred, dtype: float64\n"
     ]
    }
   ],
   "source": [
    "submission_df['Pred'] = (0.5 + 0.03 * (submission_df['SeedValue2'] - submission_df['SeedValue1'])).clip(0.05, 0.95)\n",
    "\n",
    "stats = submission_df.iloc[:, 1].describe()\n",
    "print(stats)"
   ]
  },
  {
   "cell_type": "markdown",
   "id": "9ce004ab",
   "metadata": {
    "papermill": {
     "duration": 0.004181,
     "end_time": "2025-02-18T17:36:42.144981",
     "exception": false,
     "start_time": "2025-02-18T17:36:42.140800",
     "status": "completed"
    },
    "tags": []
   },
   "source": [
    "## Step 5: Understand the metric"
   ]
  },
  {
   "cell_type": "markdown",
   "id": "b354f9a9",
   "metadata": {
    "papermill": {
     "duration": 0.004088,
     "end_time": "2025-02-18T17:36:42.153484",
     "exception": false,
     "start_time": "2025-02-18T17:36:42.149396",
     "status": "completed"
    },
    "tags": []
   },
   "source": [
    "We don't know the outcomes of the games, so instead let's assume that the team that was listed first won every single matchup. This is what we'll call our \"true value\". Next, we'll calculate the average squared difference between the probabilities in our submission and that ground truth value. We'll call this the \"Brier score\". https://en.wikipedia.org/wiki/Brier_score"
   ]
  },
  {
   "cell_type": "code",
   "execution_count": 8,
   "id": "5deae07e",
   "metadata": {
    "execution": {
     "iopub.execute_input": "2025-02-18T17:36:42.163485Z",
     "iopub.status.busy": "2025-02-18T17:36:42.163106Z",
     "iopub.status.idle": "2025-02-18T17:36:42.177399Z",
     "shell.execute_reply": "2025-02-18T17:36:42.176220Z"
    },
    "papermill": {
     "duration": 0.021577,
     "end_time": "2025-02-18T17:36:42.179413",
     "exception": false,
     "start_time": "2025-02-18T17:36:42.157836",
     "status": "completed"
    },
    "tags": []
   },
   "outputs": [],
   "source": [
    "submission_df['Pred'] = 1 / (1 + np.exp(submission_df['SeedValue1'] - submission_df['SeedValue2']))\n",
    "\n",
    "# Check for NaN or infinite values in predictions (could happen with extreme seed differences)\n",
    "if submission_df['Pred'].isnull().any() or (submission_df['Pred'] == np.inf).any():\n",
    "    print(\"Warning: NaN or infinite values detected in predictions.\")"
   ]
  },
  {
   "cell_type": "markdown",
   "id": "543ef2e4",
   "metadata": {
    "papermill": {
     "duration": 0.004634,
     "end_time": "2025-02-18T17:36:42.189060",
     "exception": false,
     "start_time": "2025-02-18T17:36:42.184426",
     "status": "completed"
    },
    "tags": []
   },
   "source": [
    "## Step 6: Make your submission"
   ]
  },
  {
   "cell_type": "code",
   "execution_count": 9,
   "id": "8295e7cf",
   "metadata": {
    "execution": {
     "iopub.execute_input": "2025-02-18T17:36:42.199173Z",
     "iopub.status.busy": "2025-02-18T17:36:42.198853Z",
     "iopub.status.idle": "2025-02-18T17:36:42.845388Z",
     "shell.execute_reply": "2025-02-18T17:36:42.844101Z"
    },
    "papermill": {
     "duration": 0.653693,
     "end_time": "2025-02-18T17:36:42.847054",
     "exception": false,
     "start_time": "2025-02-18T17:36:42.193361",
     "status": "completed"
    },
    "tags": []
   },
   "outputs": [
    {
     "name": "stdout",
     "output_type": "stream",
     "text": [
      "Submission file created!\n"
     ]
    }
   ],
   "source": [
    "# Use the trained model to predict probabilities for the full dataset\n",
    "submission_df['Pred'] = model.predict_proba(submission_df[['SeedDifference']])[:, 1]\n",
    "\n",
    "# Clip predictions to be between 0.05 and 0.95 (as per competition rules)\n",
    "submission_df['Pred'] = submission_df['Pred'].clip(0.05, 0.95)\n",
    "\n",
    "# Create the submission file\n",
    "submission_df[['ID', 'Pred']].to_csv('/kaggle/working/submission.csv', index=False)\n",
    "print(\"Submission file created!\")\n"
   ]
  }
 ],
 "metadata": {
  "kaggle": {
   "accelerator": "none",
   "dataSources": [
    {
     "databundleVersionId": 11018643,
     "sourceId": 91497,
     "sourceType": "competition"
    }
   ],
   "dockerImageVersionId": 30839,
   "isGpuEnabled": false,
   "isInternetEnabled": true,
   "language": "python",
   "sourceType": "notebook"
  },
  "kernelspec": {
   "display_name": "Python 3",
   "language": "python",
   "name": "python3"
  },
  "language_info": {
   "codemirror_mode": {
    "name": "ipython",
    "version": 3
   },
   "file_extension": ".py",
   "mimetype": "text/x-python",
   "name": "python",
   "nbconvert_exporter": "python",
   "pygments_lexer": "ipython3",
   "version": "3.10.12"
  },
  "papermill": {
   "default_parameters": {},
   "duration": 10.885726,
   "end_time": "2025-02-18T17:36:43.571342",
   "environment_variables": {},
   "exception": null,
   "input_path": "__notebook__.ipynb",
   "output_path": "__notebook__.ipynb",
   "parameters": {},
   "start_time": "2025-02-18T17:36:32.685616",
   "version": "2.6.0"
  }
 },
 "nbformat": 4,
 "nbformat_minor": 5
}
