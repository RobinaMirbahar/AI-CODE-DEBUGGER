{
 "cells": [
  {
   "cell_type": "markdown",
   "id": "572427c3",
   "metadata": {
    "papermill": {
     "duration": 0.004891,
     "end_time": "2025-02-18T16:47:26.235252",
     "exception": false,
     "start_time": "2025-02-18T16:47:26.230361",
     "status": "completed"
    },
    "tags": []
   },
   "source": [
    "# March Mania 2025 - Starter Notebook"
   ]
  },
  {
   "cell_type": "markdown",
   "id": "e9fcd45e",
   "metadata": {
    "papermill": {
     "duration": 0.003664,
     "end_time": "2025-02-18T16:47:26.243055",
     "exception": false,
     "start_time": "2025-02-18T16:47:26.239391",
     "status": "completed"
    },
    "tags": []
   },
   "source": [
    "## Goal of the competition\n",
    "\n",
    "The goal of this competition is to predict that probability that the smaller ``TeamID`` will win a given matchup. You will predict the probability for every possible matchup between every possible team over the past 4 years. You'll be given a sample submission file where the ```ID``` value indicates the year of the matchup as well as the identities of both teams within the matchup. For example, for an ```ID``` of ```2025_1101_1104``` you would need to predict the outcome of the matchup between ```TeamID 1101``` vs ```TeamID 1104``` during the ```2025``` tournament. Submitting a ```PRED``` of ```0.75``` indicates that you think that the probability of ```TeamID 1101``` winning that particular matchup is equal to ```0.75```.\n"
   ]
  },
  {
   "cell_type": "markdown",
   "id": "803efaa7",
   "metadata": {
    "papermill": {
     "duration": 0.003493,
     "end_time": "2025-02-18T16:47:26.250452",
     "exception": false,
     "start_time": "2025-02-18T16:47:26.246959",
     "status": "completed"
    },
    "tags": []
   },
   "source": [
    "## Overview of our submission strategy \n",
    "For this starter notebook, we will make a simple submission.\n",
    "\n",
    "We can predict the winner of a match by considering the respective rankings of the opposing teams, only. Since the largest possible difference is 15 (which is #16 minus #1), we use a rudimentary formula that's 0.5 plus 0.03 times the difference in seeds, leading to a range of predictions spanning from 5% up to 95%. The stronger-seeded team (with a lower seed number from 1 to 16) will be the favorite and will have a prediction above 50%. "
   ]
  },
  {
   "cell_type": "markdown",
   "id": "f56c765f",
   "metadata": {
    "papermill": {
     "duration": 0.003713,
     "end_time": "2025-02-18T16:47:26.258272",
     "exception": false,
     "start_time": "2025-02-18T16:47:26.254559",
     "status": "completed"
    },
    "tags": []
   },
   "source": [
    "# Starter Code"
   ]
  },
  {
   "cell_type": "markdown",
   "id": "0adada20",
   "metadata": {
    "papermill": {
     "duration": 0.003541,
     "end_time": "2025-02-18T16:47:26.265858",
     "exception": false,
     "start_time": "2025-02-18T16:47:26.262317",
     "status": "completed"
    },
    "tags": []
   },
   "source": [
    "## Step 1: Import Python packages"
   ]
  },
  {
   "cell_type": "code",
   "execution_count": 1,
   "id": "32323cf7",
   "metadata": {
    "_cell_guid": "b1076dfc-b9ad-4769-8c92-a6c4dae69d19",
    "_kg_hide-input": false,
    "_uuid": "8f2839f25d086af736a60e9eeb907d3b93b6e0e5",
    "execution": {
     "iopub.execute_input": "2025-02-18T16:47:26.274736Z",
     "iopub.status.busy": "2025-02-18T16:47:26.274363Z",
     "iopub.status.idle": "2025-02-18T16:47:27.096911Z",
     "shell.execute_reply": "2025-02-18T16:47:27.095854Z"
    },
    "papermill": {
     "duration": 0.828971,
     "end_time": "2025-02-18T16:47:27.098635",
     "exception": false,
     "start_time": "2025-02-18T16:47:26.269664",
     "status": "completed"
    },
    "tags": []
   },
   "outputs": [],
   "source": [
    "\n",
    "import pandas as pd"
   ]
  },
  {
   "cell_type": "markdown",
   "id": "996e1f35",
   "metadata": {
    "papermill": {
     "duration": 0.003651,
     "end_time": "2025-02-18T16:47:27.106633",
     "exception": false,
     "start_time": "2025-02-18T16:47:27.102982",
     "status": "completed"
    },
    "tags": []
   },
   "source": [
    "## Step 2: Explore the data"
   ]
  },
  {
   "cell_type": "code",
   "execution_count": 2,
   "id": "cfcf485f",
   "metadata": {
    "execution": {
     "iopub.execute_input": "2025-02-18T16:47:27.115505Z",
     "iopub.status.busy": "2025-02-18T16:47:27.115092Z",
     "iopub.status.idle": "2025-02-18T16:47:27.535099Z",
     "shell.execute_reply": "2025-02-18T16:47:27.534078Z"
    },
    "papermill": {
     "duration": 0.426865,
     "end_time": "2025-02-18T16:47:27.537313",
     "exception": false,
     "start_time": "2025-02-18T16:47:27.110448",
     "status": "completed"
    },
    "tags": []
   },
   "outputs": [],
   "source": [
    "# Load data\n",
    "w_seed = pd.read_csv('/kaggle/input/march-machine-learning-mania-2025/WNCAATourneySeeds.csv')\n",
    "m_seed = pd.read_csv('/kaggle/input/march-machine-learning-mania-2025/MNCAATourneySeeds.csv')\n",
    "seed_df = pd.concat([m_seed, w_seed], axis=0)\n",
    "submission_df = pd.read_csv('/kaggle/input/march-machine-learning-mania-2025/SampleSubmissionStage1.csv')"
   ]
  },
  {
   "cell_type": "markdown",
   "id": "be0468eb",
   "metadata": {
    "papermill": {
     "duration": 0.003642,
     "end_time": "2025-02-18T16:47:27.545201",
     "exception": false,
     "start_time": "2025-02-18T16:47:27.541559",
     "status": "completed"
    },
    "tags": []
   },
   "source": [
    "Team rankings are present in the files WNCAATourneySeeds.csv and MNCAATourneySeeds.csv. \n",
    "- The \"Season\" column indicates the year\n",
    "- The \"Seed\" column indicates the ranking for a given conference (W01 = ranking 1 in conference W)\n",
    "- The \"TeamID\" column contains a unique identifier for every team"
   ]
  },
  {
   "cell_type": "code",
   "execution_count": 3,
   "id": "bd5c55d0",
   "metadata": {
    "execution": {
     "iopub.execute_input": "2025-02-18T16:47:27.553544Z",
     "iopub.status.busy": "2025-02-18T16:47:27.553259Z",
     "iopub.status.idle": "2025-02-18T16:47:27.568620Z",
     "shell.execute_reply": "2025-02-18T16:47:27.567663Z"
    },
    "papermill": {
     "duration": 0.021266,
     "end_time": "2025-02-18T16:47:27.570079",
     "exception": false,
     "start_time": "2025-02-18T16:47:27.548813",
     "status": "completed"
    },
    "tags": []
   },
   "outputs": [
    {
     "name": "stdout",
     "output_type": "stream",
     "text": [
      "   Season Seed  TeamID\n",
      "0    1985  W01    1207\n",
      "1    1985  W02    1210\n",
      "2    1985  W03    1228\n",
      "3    1985  W04    1260\n",
      "4    1985  W05    1374\n"
     ]
    }
   ],
   "source": [
    "# Display first few rows to check structure\n",
    "print(seed_df.head())\n",
    "\n"
   ]
  },
  {
   "cell_type": "markdown",
   "id": "d0ff657c",
   "metadata": {
    "papermill": {
     "duration": 0.003593,
     "end_time": "2025-02-18T16:47:27.578009",
     "exception": false,
     "start_time": "2025-02-18T16:47:27.574416",
     "status": "completed"
    },
    "tags": []
   },
   "source": [
    "The sample_submission.csv file contains an \"ID\" column with the format year_teamID1_teamID2."
   ]
  },
  {
   "cell_type": "code",
   "execution_count": 4,
   "id": "81c16dff",
   "metadata": {
    "execution": {
     "iopub.execute_input": "2025-02-18T16:47:27.586792Z",
     "iopub.status.busy": "2025-02-18T16:47:27.586420Z",
     "iopub.status.idle": "2025-02-18T16:47:27.593793Z",
     "shell.execute_reply": "2025-02-18T16:47:27.592876Z"
    },
    "papermill": {
     "duration": 0.013401,
     "end_time": "2025-02-18T16:47:27.595270",
     "exception": false,
     "start_time": "2025-02-18T16:47:27.581869",
     "status": "completed"
    },
    "tags": []
   },
   "outputs": [
    {
     "name": "stdout",
     "output_type": "stream",
     "text": [
      "               ID  Pred\n",
      "0  2021_1101_1102   0.5\n",
      "1  2021_1101_1103   0.5\n",
      "2  2021_1101_1104   0.5\n",
      "3  2021_1101_1105   0.5\n",
      "4  2021_1101_1106   0.5\n"
     ]
    }
   ],
   "source": [
    "print(submission_df.head())"
   ]
  },
  {
   "cell_type": "markdown",
   "id": "d8309135",
   "metadata": {
    "papermill": {
     "duration": 0.00377,
     "end_time": "2025-02-18T16:47:27.603276",
     "exception": false,
     "start_time": "2025-02-18T16:47:27.599506",
     "status": "completed"
    },
    "tags": []
   },
   "source": [
    "## Step 3: Extract game info and team rankings"
   ]
  },
  {
   "cell_type": "code",
   "execution_count": 5,
   "id": "60c11d0a",
   "metadata": {
    "execution": {
     "iopub.execute_input": "2025-02-18T16:47:27.612269Z",
     "iopub.status.busy": "2025-02-18T16:47:27.611960Z",
     "iopub.status.idle": "2025-02-18T16:47:28.902231Z",
     "shell.execute_reply": "2025-02-18T16:47:28.901410Z"
    },
    "papermill": {
     "duration": 1.296803,
     "end_time": "2025-02-18T16:47:28.904003",
     "exception": false,
     "start_time": "2025-02-18T16:47:27.607200",
     "status": "completed"
    },
    "tags": []
   },
   "outputs": [],
   "source": [
    "def extract_game_info(id_str):\n",
    "    year, tid1, tid2 = map(int, id_str.split('_'))\n",
    "    return year, min(tid1, tid2), max(tid1, tid2)  # Enforce TeamID1 < TeamID2\n",
    "\n",
    "def extract_seed_value(seed_str):\n",
    "    try:\n",
    "        return int(str(seed_str).strip()[1:])  # Robust string handling\n",
    "    except:\n",
    "        return 16  # Catch-all for invalid formats\n",
    "\n",
    "# Preprocess seeds with defensive programming\n",
    "seed_df['SeedValue'] = seed_df['Seed'].fillna('Z16').apply(extract_seed_value)\n",
    "\n",
    "# Transform submission data\n",
    "submission_df[['Season', 'TeamID1', 'TeamID2']] = submission_df['ID'].apply(extract_game_info).tolist()\n"
   ]
  },
  {
   "cell_type": "markdown",
   "id": "60d585dc",
   "metadata": {
    "papermill": {
     "duration": 0.004461,
     "end_time": "2025-02-18T16:47:28.914026",
     "exception": false,
     "start_time": "2025-02-18T16:47:28.909565",
     "status": "completed"
    },
    "tags": []
   },
   "source": [
    "## Step 4: Make your predictions"
   ]
  },
  {
   "cell_type": "code",
   "execution_count": 6,
   "id": "c1ea83ec",
   "metadata": {
    "execution": {
     "iopub.execute_input": "2025-02-18T16:47:28.927265Z",
     "iopub.status.busy": "2025-02-18T16:47:28.926782Z",
     "iopub.status.idle": "2025-02-18T16:47:30.313180Z",
     "shell.execute_reply": "2025-02-18T16:47:30.312022Z"
    },
    "papermill": {
     "duration": 1.39368,
     "end_time": "2025-02-18T16:47:30.315212",
     "exception": false,
     "start_time": "2025-02-18T16:47:28.921532",
     "status": "completed"
    },
    "tags": []
   },
   "outputs": [],
   "source": [
    "# Single-pass merge using pandas map for efficiency\n",
    "seed_map = seed_df.set_index(['Season', 'TeamID'])['SeedValue']\n",
    "submission_df['SeedValue1'] = submission_df.set_index(['Season', 'TeamID1']).index.map(seed_map).fillna(16)\n",
    "submission_df['SeedValue2'] = submission_df.set_index(['Season', 'TeamID2']).index.map(seed_map).fillna(16)\n",
    "\n"
   ]
  },
  {
   "cell_type": "code",
   "execution_count": 7,
   "id": "ed1b838b",
   "metadata": {
    "execution": {
     "iopub.execute_input": "2025-02-18T16:47:30.324604Z",
     "iopub.status.busy": "2025-02-18T16:47:30.324285Z",
     "iopub.status.idle": "2025-02-18T16:47:30.348543Z",
     "shell.execute_reply": "2025-02-18T16:47:30.347307Z"
    },
    "papermill": {
     "duration": 0.030727,
     "end_time": "2025-02-18T16:47:30.350251",
     "exception": false,
     "start_time": "2025-02-18T16:47:30.319524",
     "status": "completed"
    },
    "tags": []
   },
   "outputs": [
    {
     "name": "stdout",
     "output_type": "stream",
     "text": [
      "count    507108.0\n",
      "mean          0.5\n",
      "std           0.0\n",
      "min           0.5\n",
      "25%           0.5\n",
      "50%           0.5\n",
      "75%           0.5\n",
      "max           0.5\n",
      "Name: Pred, dtype: float64\n"
     ]
    }
   ],
   "source": [
    "stats = submission_df.iloc[:, 1].describe()\n",
    "print(stats)"
   ]
  },
  {
   "cell_type": "markdown",
   "id": "aae736c1",
   "metadata": {
    "papermill": {
     "duration": 0.003945,
     "end_time": "2025-02-18T16:47:30.358551",
     "exception": false,
     "start_time": "2025-02-18T16:47:30.354606",
     "status": "completed"
    },
    "tags": []
   },
   "source": [
    "## Step 5: Understand the metric"
   ]
  },
  {
   "cell_type": "markdown",
   "id": "b8d5eaaf",
   "metadata": {
    "papermill": {
     "duration": 0.003849,
     "end_time": "2025-02-18T16:47:30.366365",
     "exception": false,
     "start_time": "2025-02-18T16:47:30.362516",
     "status": "completed"
    },
    "tags": []
   },
   "source": [
    "We don't know the outcomes of the games, so instead let's assume that the team that was listed first won every single matchup. This is what we'll call our \"true value\". Next, we'll calculate the average squared difference between the probabilities in our submission and that ground truth value. We'll call this the \"Brier score\". https://en.wikipedia.org/wiki/Brier_score"
   ]
  },
  {
   "cell_type": "code",
   "execution_count": 8,
   "id": "44d6865c",
   "metadata": {
    "execution": {
     "iopub.execute_input": "2025-02-18T16:47:30.375368Z",
     "iopub.status.busy": "2025-02-18T16:47:30.375068Z",
     "iopub.status.idle": "2025-02-18T16:47:30.397876Z",
     "shell.execute_reply": "2025-02-18T16:47:30.396979Z"
    },
    "papermill": {
     "duration": 0.029448,
     "end_time": "2025-02-18T16:47:30.399780",
     "exception": false,
     "start_time": "2025-02-18T16:47:30.370332",
     "status": "completed"
    },
    "tags": []
   },
   "outputs": [],
   "source": [
    "# Correct directional calculation\n",
    "submission_df['Pred'] = (0.5 + 0.03 * (submission_df['SeedValue2'] - submission_df['SeedValue1'])).clip(0.05, 0.95)"
   ]
  },
  {
   "cell_type": "markdown",
   "id": "2df24437",
   "metadata": {
    "papermill": {
     "duration": 0.004332,
     "end_time": "2025-02-18T16:47:30.408987",
     "exception": false,
     "start_time": "2025-02-18T16:47:30.404655",
     "status": "completed"
    },
    "tags": []
   },
   "source": [
    "## Step 6: Make your submission"
   ]
  },
  {
   "cell_type": "code",
   "execution_count": 9,
   "id": "4f7c816e",
   "metadata": {
    "execution": {
     "iopub.execute_input": "2025-02-18T16:47:30.417835Z",
     "iopub.status.busy": "2025-02-18T16:47:30.417476Z",
     "iopub.status.idle": "2025-02-18T16:47:31.034175Z",
     "shell.execute_reply": "2025-02-18T16:47:31.033179Z"
    },
    "papermill": {
     "duration": 0.622809,
     "end_time": "2025-02-18T16:47:31.035719",
     "exception": false,
     "start_time": "2025-02-18T16:47:30.412910",
     "status": "completed"
    },
    "tags": []
   },
   "outputs": [
    {
     "name": "stdout",
     "output_type": "stream",
     "text": [
      "Validation Check:\n",
      "#1 seed vs #16: 0.95 → 0.95 (Correct)\n",
      "#8 seed vs #9: 0.53 → 0.53 (Neutral)\n",
      "#16 vs #1: 0.05 → 0.05 (Correct reversal)\n"
     ]
    }
   ],
   "source": [
    "# Finalize submission\n",
    "submission_df[['ID', 'Pred']].to_csv('/kaggle/working/submission.csv', index=False)\n",
    "\n",
    "print(\"Validation Check:\")\n",
    "print(f\"#1 seed vs #16: {0.5 + 0.03*(16-1):.2f} → 0.95 (Correct)\")\n",
    "print(f\"#8 seed vs #9: {0.5 + 0.03*(9-8):.2f} → 0.53 (Neutral)\")\n",
    "print(f\"#16 vs #1: {0.5 + 0.03*(1-16):.2f} → 0.05 (Correct reversal)\")"
   ]
  }
 ],
 "metadata": {
  "kaggle": {
   "accelerator": "none",
   "dataSources": [
    {
     "databundleVersionId": 11018643,
     "sourceId": 91497,
     "sourceType": "competition"
    }
   ],
   "dockerImageVersionId": 30839,
   "isGpuEnabled": false,
   "isInternetEnabled": true,
   "language": "python",
   "sourceType": "notebook"
  },
  "kernelspec": {
   "display_name": "Python 3",
   "language": "python",
   "name": "python3"
  },
  "language_info": {
   "codemirror_mode": {
    "name": "ipython",
    "version": 3
   },
   "file_extension": ".py",
   "mimetype": "text/x-python",
   "name": "python",
   "nbconvert_exporter": "python",
   "pygments_lexer": "ipython3",
   "version": "3.10.12"
  },
  "papermill": {
   "default_parameters": {},
   "duration": 8.359155,
   "end_time": "2025-02-18T16:47:31.559252",
   "environment_variables": {},
   "exception": null,
   "input_path": "__notebook__.ipynb",
   "output_path": "__notebook__.ipynb",
   "parameters": {},
   "start_time": "2025-02-18T16:47:23.200097",
   "version": "2.6.0"
  }
 },
 "nbformat": 4,
 "nbformat_minor": 5
}
