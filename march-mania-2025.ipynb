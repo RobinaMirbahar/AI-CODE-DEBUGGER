{
 "cells": [
  {
   "cell_type": "markdown",
   "id": "65e4b425",
   "metadata": {
    "papermill": {
     "duration": 0.002075,
     "end_time": "2025-02-18T20:53:21.223924",
     "exception": false,
     "start_time": "2025-02-18T20:53:21.221849",
     "status": "completed"
    },
    "tags": []
   },
   "source": [
    "# March Mania 2025 - Starter Notebook"
   ]
  },
  {
   "cell_type": "markdown",
   "id": "7fb905bf",
   "metadata": {
    "papermill": {
     "duration": 0.001248,
     "end_time": "2025-02-18T20:53:21.227014",
     "exception": false,
     "start_time": "2025-02-18T20:53:21.225766",
     "status": "completed"
    },
    "tags": []
   },
   "source": [
    "## Goal of the competition\n",
    "\n",
    "The goal of this competition is to predict that probability that the smaller ``TeamID`` will win a given matchup. You will predict the probability for every possible matchup between every possible team over the past 4 years. You'll be given a sample submission file where the ```ID``` value indicates the year of the matchup as well as the identities of both teams within the matchup. For example, for an ```ID``` of ```2025_1101_1104``` you would need to predict the outcome of the matchup between ```TeamID 1101``` vs ```TeamID 1104``` during the ```2025``` tournament. Submitting a ```PRED``` of ```0.75``` indicates that you think that the probability of ```TeamID 1101``` winning that particular matchup is equal to ```0.75```.\n"
   ]
  },
  {
   "cell_type": "markdown",
   "id": "88347ad0",
   "metadata": {
    "papermill": {
     "duration": 0.001234,
     "end_time": "2025-02-18T20:53:21.229701",
     "exception": false,
     "start_time": "2025-02-18T20:53:21.228467",
     "status": "completed"
    },
    "tags": []
   },
   "source": [
    "## Overview of our submission strategy \n",
    "For this starter notebook, we will make a simple submission.\n",
    "\n",
    "We can predict the winner of a match by considering the respective rankings of the opposing teams, only. Since the largest possible difference is 15 (which is #16 minus #1), we use a rudimentary formula that's 0.5 plus 0.03 times the difference in seeds, leading to a range of predictions spanning from 5% up to 95%. The stronger-seeded team (with a lower seed number from 1 to 16) will be the favorite and will have a prediction above 50%. "
   ]
  },
  {
   "cell_type": "markdown",
   "id": "2e191715",
   "metadata": {
    "papermill": {
     "duration": 0.001293,
     "end_time": "2025-02-18T20:53:21.232426",
     "exception": false,
     "start_time": "2025-02-18T20:53:21.231133",
     "status": "completed"
    },
    "tags": []
   },
   "source": [
    "# Starter Code"
   ]
  },
  {
   "cell_type": "code",
   "execution_count": 1,
   "id": "7c78c93b",
   "metadata": {
    "execution": {
     "iopub.execute_input": "2025-02-18T20:53:21.236435Z",
     "iopub.status.busy": "2025-02-18T20:53:21.236119Z",
     "iopub.status.idle": "2025-02-18T20:53:42.476959Z",
     "shell.execute_reply": "2025-02-18T20:53:42.475995Z"
    },
    "papermill": {
     "duration": 21.244612,
     "end_time": "2025-02-18T20:53:42.478417",
     "exception": false,
     "start_time": "2025-02-18T20:53:21.233805",
     "status": "completed"
    },
    "tags": []
   },
   "outputs": [
    {
     "name": "stdout",
     "output_type": "stream",
     "text": [
      "Model Validation Results:\n",
      "Best Validation Brier Score: 0.15627\n",
      "Submission Stats - Mean: 0.5001\n",
      "Prediction Range: [0.05, 0.95]\n",
      "\n",
      "Submission file successfully created!\n"
     ]
    }
   ],
   "source": [
    "import pandas as pd\n",
    "import numpy as np\n",
    "from sklearn.ensemble import HistGradientBoostingClassifier\n",
    "from sklearn.model_selection import TimeSeriesSplit\n",
    "from sklearn.metrics import brier_score_loss\n",
    "\n",
    "# ======================================================================\n",
    "# 1. Data Loading & Processing\n",
    "# ======================================================================\n",
    "\n",
    "# Load available competition data\n",
    "m_seed = pd.read_csv('/kaggle/input/march-machine-learning-mania-2025/MNCAATourneySeeds.csv')\n",
    "w_seed = pd.read_csv('/kaggle/input/march-machine-learning-mania-2025/WNCAATourneySeeds.csv')\n",
    "tourney_results = pd.concat([\n",
    "    pd.read_csv('/kaggle/input/march-machine-learning-mania-2025/MNCAATourneyCompactResults.csv'),\n",
    "    pd.read_csv('/kaggle/input/march-machine-learning-mania-2025/WNCAATourneyCompactResults.csv')\n",
    "])\n",
    "submission = pd.read_csv('/kaggle/input/march-machine-learning-mania-2025/SampleSubmissionStage1.csv')\n",
    "\n",
    "# ======================================================================\n",
    "# 2. Robust Seed Processing\n",
    "# ======================================================================\n",
    "\n",
    "def parse_seed(seed):\n",
    "    \"\"\"Extract numeric value from any seed format\"\"\"\n",
    "    try:\n",
    "        return int(''.join(filter(str.isdigit, str(seed))))\n",
    "    except:\n",
    "        return 16  # Default for missing/invalid seeds\n",
    "\n",
    "# Process and combine seeds\n",
    "seed_df = pd.concat([m_seed, w_seed])\n",
    "seed_df['SeedValue'] = seed_df['Seed'].apply(parse_seed)\n",
    "seed_map = seed_df.set_index(['Season', 'TeamID'])['SeedValue']\n",
    "\n",
    "# ======================================================================\n",
    "# 3. Training Data Preparation\n",
    "# ======================================================================\n",
    "\n",
    "# Create training examples from historical tournament results\n",
    "train_data = []\n",
    "for _, row in tourney_results.iterrows():\n",
    "    season = row['Season']\n",
    "    team1, team2 = sorted([row['WTeamID'], row['LTeamID']])\n",
    "    outcome = 1 if row['WTeamID'] == team1 else 0\n",
    "    \n",
    "    try:\n",
    "        seed_diff = seed_map.at[(season, team2)] - seed_map.at[(season, team1)]\n",
    "    except KeyError:\n",
    "        continue  # Skip missing team data\n",
    "    \n",
    "    train_data.append({\n",
    "        'Season': season,\n",
    "        'SeedDiff': seed_diff,\n",
    "        'Outcome': outcome\n",
    "    })\n",
    "\n",
    "train_df = pd.DataFrame(train_data)\n",
    "\n",
    "# ======================================================================\n",
    "# 4. Model Training with Temporal Validation\n",
    "# ======================================================================\n",
    "\n",
    "X = train_df[['SeedDiff']]\n",
    "y = train_df['Outcome']\n",
    "\n",
    "# Initialize model\n",
    "model = HistGradientBoostingClassifier(\n",
    "    max_iter=200,\n",
    "    early_stopping=True,\n",
    "    random_state=42\n",
    ")\n",
    "\n",
    "# Time-based cross-validation\n",
    "best_score = float('inf')\n",
    "for train_idx, val_idx in TimeSeriesSplit(n_splits=3).split(X):\n",
    "    X_train, X_val = X.iloc[train_idx], X.iloc[val_idx]\n",
    "    y_train, y_val = y.iloc[train_idx], y.iloc[val_idx]\n",
    "    \n",
    "    model.fit(X_train, y_train)\n",
    "    val_preds = model.predict_proba(X_val)[:, 1]\n",
    "    score = brier_score_loss(y_val, val_preds)\n",
    "    \n",
    "    if score < best_score:\n",
    "        best_model = model\n",
    "        best_score = score\n",
    "\n",
    "# ======================================================================\n",
    "# 5. Submission Processing & Prediction\n",
    "# ======================================================================\n",
    "\n",
    "# Split ID column with proper handling\n",
    "split_df = (\n",
    "    submission['ID']\n",
    "    .str.split('_', expand=True)\n",
    "    .iloc[:, :3]\n",
    "    .rename(columns={0: 'Season', 1: 'Team1', 2: 'Team2'})\n",
    "    .astype({'Season': 'int16', 'Team1': 'int16', 'Team2': 'int16'})\n",
    ")\n",
    "submission = pd.concat([submission, split_df], axis=1)\n",
    "\n",
    "# Calculate seed differences\n",
    "def get_seed_diff(row):\n",
    "    try:\n",
    "        return (\n",
    "            seed_map.at[(row['Season'], row['Team2'])] -\n",
    "            seed_map.at[(row['Season'], row['Team1'])]\n",
    "        )\n",
    "    except KeyError:\n",
    "        return 0  # Neutral prediction for missing teams\n",
    "\n",
    "submission['SeedDiff'] = submission.apply(get_seed_diff, axis=1)\n",
    "\n",
    "# Generate predictions\n",
    "submission['Pred'] = best_model.predict_proba(submission[['SeedDiff']])[:, 1]\n",
    "submission['Pred'] = submission['Pred'].clip(0.05, 0.95)\n",
    "\n",
    "# ======================================================================\n",
    "# 6. Final Validation & Output\n",
    "# ======================================================================\n",
    "\n",
    "print(\"Model Validation Results:\")\n",
    "print(f\"Best Validation Brier Score: {best_score:.5f}\")\n",
    "print(f\"Submission Stats - Mean: {submission['Pred'].mean():.4f}\")\n",
    "print(f\"Prediction Range: [{submission['Pred'].min():.2f}, {submission['Pred'].max():.2f}]\")\n",
    "\n",
    "submission[['ID', 'Pred']].to_csv('final_submission.csv', index=False)\n",
    "print(\"\\nSubmission file successfully created!\")"
   ]
  }
 ],
 "metadata": {
  "kaggle": {
   "accelerator": "gpu",
   "dataSources": [
    {
     "databundleVersionId": 11018643,
     "sourceId": 91497,
     "sourceType": "competition"
    }
   ],
   "dockerImageVersionId": 30839,
   "isGpuEnabled": true,
   "isInternetEnabled": true,
   "language": "python",
   "sourceType": "notebook"
  },
  "kernelspec": {
   "display_name": "Python 3",
   "language": "python",
   "name": "python3"
  },
  "language_info": {
   "codemirror_mode": {
    "name": "ipython",
    "version": 3
   },
   "file_extension": ".py",
   "mimetype": "text/x-python",
   "name": "python",
   "nbconvert_exporter": "python",
   "pygments_lexer": "ipython3",
   "version": "3.10.12"
  },
  "papermill": {
   "default_parameters": {},
   "duration": 24.361891,
   "end_time": "2025-02-18T20:53:42.998822",
   "environment_variables": {},
   "exception": null,
   "input_path": "__notebook__.ipynb",
   "output_path": "__notebook__.ipynb",
   "parameters": {},
   "start_time": "2025-02-18T20:53:18.636931",
   "version": "2.6.0"
  }
 },
 "nbformat": 4,
 "nbformat_minor": 5
}
